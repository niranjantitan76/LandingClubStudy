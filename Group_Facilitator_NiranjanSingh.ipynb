{
 "cells": [
  {
   "cell_type": "markdown",
   "id": "dce9de2d",
   "metadata": {},
   "source": [
    "### EDA- Landing Club Study"
   ]
  },
  {
   "cell_type": "markdown",
   "id": "96404196",
   "metadata": {},
   "source": [
    "### Objectives:\n",
    "\n",
    "**Importing necessary Modules**:\n",
    "- Import the modules necessary for Data Manipulation and Visualization.\n",
    "\n",
    "**Reading dataset**:\n",
    "- Read the dataset containing loan applicant information.\n",
    "\n",
    "**Exploring the Dataset**:\n",
    "- Understand the Structure and various datatypes of the attributes within the dataset.\n",
    "\n",
    "**Missing value analysis**:\n",
    "- Identify and analyze missing values in the dataset.\n",
    "\n",
    "**Analysing categorical and numerical columns**:\n",
    "- Analyze categorical and numerical columns to understand the statistical properties and relationships within the dataset.\n",
    "\n",
    "**Univariate Analysis**:\n",
    "- Conduct univariate analysis to explore the distribution and characteristics of individual variables.\n",
    "\n",
    "**Outliers**:\n",
    "- Identify and analyze outliers within the dataset to understand their impact on the analysis.\n",
    "\n",
    "**Bivariate analysis**:\n",
    "- Conduct bivariate analysis to explore relationships between different variables and their impact on loan default rates."
   ]
  },
  {
   "cell_type": "code",
   "execution_count": 240,
   "id": "493fe514",
   "metadata": {},
   "outputs": [],
   "source": [
    "#!pip install plotly"
   ]
  },
  {
   "cell_type": "markdown",
   "id": "f8049d88",
   "metadata": {},
   "source": [
    "## Importing necessary libraries and dataset"
   ]
  },
  {
   "cell_type": "code",
   "execution_count": 241,
   "id": "93f5d6fd",
   "metadata": {},
   "outputs": [],
   "source": [
    "# Importing libraries\n",
    "import pandas as pd\n",
    "import warnings\n",
    "import matplotlib.pyplot as plt\n",
    "import seaborn as sns\n",
    "warnings.filterwarnings(\"ignore\")\n",
    "pd.options.display.max_columns=None\n",
    "pd.options.display.max_rows=None\n",
    "import sketch as sketch\n",
    "import os\n",
    "import plotly.express as px "
   ]
  },
  {
   "cell_type": "markdown",
   "id": "3a4066d6",
   "metadata": {},
   "source": [
    "## Reading the Dataset"
   ]
  },
  {
   "cell_type": "code",
   "execution_count": null,
   "id": "95d20bde",
   "metadata": {},
   "outputs": [],
   "source": [
    "#reading dataset\n",
    "df_loan=pd.read_csv(\"loan.csv\")\n",
    "df_loan.shape"
   ]
  },
  {
   "cell_type": "code",
   "execution_count": null,
   "id": "2dbab019",
   "metadata": {},
   "outputs": [],
   "source": [
    "df_loan.head()"
   ]
  },
  {
   "cell_type": "code",
   "execution_count": null,
   "id": "8ef965d0",
   "metadata": {},
   "outputs": [],
   "source": [
    "df_loan.info()"
   ]
  },
  {
   "cell_type": "code",
   "execution_count": null,
   "id": "6d21ceb9",
   "metadata": {},
   "outputs": [],
   "source": [
    "df_loan.isna().sum()"
   ]
  },
  {
   "cell_type": "markdown",
   "id": "4e72f709",
   "metadata": {},
   "source": []
  },
  {
   "cell_type": "code",
   "execution_count": null,
   "id": "bb482734",
   "metadata": {},
   "outputs": [],
   "source": [
    "# percentage of null per column\n",
    "df_loan_percentage=round(df_loan.isna().sum()/len(df_loan)*100,2)\n",
    "df_loan_percentage"
   ]
  },
  {
   "cell_type": "code",
   "execution_count": null,
   "id": "a425cc72",
   "metadata": {},
   "outputs": [],
   "source": [
    "df_loan.info()"
   ]
  },
  {
   "cell_type": "markdown",
   "id": "5e124345",
   "metadata": {},
   "source": [
    "# Checkin null % per column"
   ]
  },
  {
   "cell_type": "code",
   "execution_count": null,
   "id": "a25f455b",
   "metadata": {},
   "outputs": [],
   "source": [
    "# null % per column\n",
    "round(df_loan.isna().sum()/len(df_loan)*100,2)"
   ]
  },
  {
   "cell_type": "markdown",
   "id": "6ae01d27",
   "metadata": {},
   "source": [
    "## DATA CLEANING"
   ]
  },
  {
   "cell_type": "markdown",
   "id": "b52c05b6",
   "metadata": {},
   "source": [
    "## Removing the Columns with 100% missing values"
   ]
  },
  {
   "cell_type": "code",
   "execution_count": 249,
   "id": "068ef82c",
   "metadata": {},
   "outputs": [],
   "source": [
    "## remove all null values columns\n",
    "\n",
    "df_loan=df_loan.dropna(axis=1,how='all')"
   ]
  },
  {
   "cell_type": "code",
   "execution_count": null,
   "id": "5cd0be69",
   "metadata": {},
   "outputs": [],
   "source": [
    "df_loan.isna().sum()"
   ]
  },
  {
   "cell_type": "code",
   "execution_count": null,
   "id": "c47181d2",
   "metadata": {},
   "outputs": [],
   "source": [
    "\n",
    "df_loan.recoveries.value_counts()"
   ]
  },
  {
   "cell_type": "markdown",
   "id": "01c33747",
   "metadata": {},
   "source": [
    "## Cleaning data"
   ]
  },
  {
   "cell_type": "code",
   "execution_count": 252,
   "id": "47652038",
   "metadata": {},
   "outputs": [],
   "source": [
    "# cleaning\n",
    "df_loan.int_rate=df_loan.int_rate.str.replace('%','')\n",
    "df_loan.revol_util=df_loan.revol_util.str.replace('%','')\n",
    "df_loan.term=df_loan.term.str.replace('months','')\n"
   ]
  },
  {
   "cell_type": "markdown",
   "id": "b197ce18",
   "metadata": {},
   "source": [
    "## type conversion"
   ]
  },
  {
   "cell_type": "code",
   "execution_count": 253,
   "id": "ec6bee35",
   "metadata": {},
   "outputs": [],
   "source": [
    "#type conversion\n",
    "df_loan.int_rate=df_loan.int_rate.astype(float)\n",
    "df_loan.revol_util=df_loan.revol_util.astype(float)\n",
    "df_loan.recoveries=df_loan.recoveries.astype(float)\n",
    "#  df_loanrevol_bal\n",
    "# df_loan.total_acc\n",
    "# df_loan.funded_amnt\n",
    "# df_loaninstallment\n",
    "# df_loanout_prncp\n",
    "# df_loantotal_pymnt','total_rec_prncp','total_rec_int','total_rec_late_fee','recoveries']\n",
    "df_loan.term=df_loan.term.astype(float)\n",
    "df_loan.emp_length=df_loan.emp_length.astype(str)\n",
    "df_loan.desc=df_loan.desc.astype(str)\n",
    "df_loan.title=df_loan.title.astype(str)\n",
    "df_loan.issue_d=df_loan.issue_d.astype(str)"
   ]
  },
  {
   "cell_type": "markdown",
   "id": "637bc268",
   "metadata": {},
   "source": [
    "# Handle missing values "
   ]
  },
  {
   "cell_type": "code",
   "execution_count": 254,
   "id": "39c01b18",
   "metadata": {},
   "outputs": [],
   "source": [
    "# Handle missing values \n",
    "df_loan['emp_length'] = df_loan['emp_length'].fillna('Unknown')\n",
    "df_loan['title'] = df_loan['title'].fillna('Unknown')\n",
    "df_loan['desc'] = df_loan['desc'].fillna('')\n",
    "df_loan['chargeoff_within_12_mths'] = round(df_loan['chargeoff_within_12_mths'].fillna(0),2)\n",
    "df_loan['recoveries'] = df_loan['recoveries'].fillna(df_loan.recoveries.mean())\n",
    "df_loan['pub_rec_bankruptcies'] = round(df_loan['pub_rec_bankruptcies'].fillna(df_loan['pub_rec_bankruptcies'].mean()),2)\n",
    "df_loan['total_pymnt']=round(df_loan['total_pymnt'],2)\n",
    "df_loan.recoveries=round(df_loan.recoveries,2)"
   ]
  },
  {
   "cell_type": "markdown",
   "id": "cc04c688",
   "metadata": {},
   "source": [
    "# Derived Columns"
   ]
  },
  {
   "cell_type": "code",
   "execution_count": 255,
   "id": "d531a861",
   "metadata": {},
   "outputs": [],
   "source": [
    "#Derived Columns\n",
    "df_loan['issue_month']=df_loan['issue_d'].apply(lambda x:  x.split('-')[0])\n",
    "df_loan['issue_year']=df_loan['issue_d'].apply(lambda x:  x.split('-')[1])"
   ]
  },
  {
   "cell_type": "markdown",
   "id": "f5e99a14",
   "metadata": {},
   "source": [
    "# Dropping redundant columns"
   ]
  },
  {
   "cell_type": "code",
   "execution_count": 256,
   "id": "cd3a9244",
   "metadata": {},
   "outputs": [],
   "source": [
    "#df_loan.drop(['policy_code','mths_since_last_delinq','mths_since_last_record','url'],axis=1)  "
   ]
  },
  {
   "cell_type": "code",
   "execution_count": null,
   "id": "6a62596d",
   "metadata": {},
   "outputs": [],
   "source": [
    "round(df_loan.isna().sum()/len(df_loan)*100,2)"
   ]
  },
  {
   "cell_type": "code",
   "execution_count": null,
   "id": "a8fc09af",
   "metadata": {},
   "outputs": [],
   "source": [
    "df_loan.shape"
   ]
  },
  {
   "cell_type": "code",
   "execution_count": null,
   "id": "35e11ed7",
   "metadata": {},
   "outputs": [],
   "source": [
    "df_loan.info()"
   ]
  },
  {
   "cell_type": "markdown",
   "id": "3f4e52cd",
   "metadata": {},
   "source": [
    "**Exploring Description** column value counts to get the insight of keyworkd occurances such 'Debt Consolidation' has higher counts than any other keywords "
   ]
  },
  {
   "cell_type": "code",
   "execution_count": null,
   "id": "be0066a6",
   "metadata": {},
   "outputs": [],
   "source": [
    "df_loan.desc.value_counts()"
   ]
  },
  {
   "cell_type": "code",
   "execution_count": null,
   "id": "b134526c",
   "metadata": {},
   "outputs": [],
   "source": [
    "df_loan.pub_rec.value_counts()"
   ]
  },
  {
   "cell_type": "markdown",
   "id": "b26e8ebe",
   "metadata": {},
   "source": [
    "# Univariate Analysis"
   ]
  },
  {
   "cell_type": "markdown",
   "id": "7c07a0b5",
   "metadata": {},
   "source": [
    "## Categorical Analysis -1 \n",
    "\n",
    "- Most of the loans comes under Grade and Subgrade A, B and C. \n",
    "- Most of the loans issued in year 2011 and falls between Jun-Dec months.\n",
    "- California and Newyork state has the highest no of loans issued."
   ]
  },
  {
   "cell_type": "code",
   "execution_count": null,
   "id": "dc759254",
   "metadata": {},
   "outputs": [],
   "source": [
    "from matplotlib.gridspec import GridSpec\n",
    "fig=plt.figure(constrained_layout=True,figsize=(20,15))\n",
    "gs=GridSpec(3,2,figure=fig)\n",
    "#Grade Analysis\n",
    "ax6=fig.add_subplot(gs[0,0])\n",
    "sns.countplot(data=df_loan, x='grade', order=sorted(df_loan['grade'].unique()), palette='viridis',ax=ax6)\n",
    "plt.title('Number of Loans by Grade')\n",
    "plt.xlabel('Grade')\n",
    "plt.ylabel('Count')\n",
    "\n",
    "#Sub-Grade Analysis\n",
    "ax5=fig.add_subplot(gs[0,1])\n",
    "sns.countplot(data=df_loan, x='sub_grade', order=sorted(df_loan['sub_grade'].unique()), palette='viridis',ax=ax5)\n",
    "plt.title('Number of Loans by Sub-Grades')\n",
    "plt.xlabel('Sub-Grade')\n",
    "plt.ylabel('Count')\n",
    "\n",
    "#Month Analysis\n",
    "ax6=fig.add_subplot(gs[1,0])\n",
    "sns.countplot(data=df_loan, x='issue_month', order=df_loan['issue_month'].unique(), palette='viridis',ax=ax6)\n",
    "plt.title('Number of Loans by Months')\n",
    "plt.xlabel('Months')\n",
    "plt.ylabel('Count')\n",
    "\n",
    "#Year Analysis\n",
    "ax5=fig.add_subplot(gs[1,1])\n",
    "sns.countplot(data=df_loan, x='issue_year', order=sorted(df_loan['issue_year'].unique()), palette='viridis',ax=ax5)\n",
    "plt.title('Number of Loans by Year')\n",
    "plt.xlabel('Year')\n",
    "plt.ylabel('Count')\n",
    "\n",
    "#State Analysis\n",
    "ax5=fig.add_subplot(gs[2,0])\n",
    "#sns.countplot(data=df_loan, x='addr_state', order=df_loan['addr_state'].unique(), palette='viridis',ax=ax5)\n",
    "df_loan.addr_state.value_counts().plot(kind='bar',ax=ax5)\n",
    "plt.title('Number of Loans by States')\n",
    "plt.xlabel('States')\n",
    "plt.ylabel('Count')\n",
    "\n",
    "#Loan Status Analysis\n",
    "ax5=fig.add_subplot(gs[2,1])\n",
    "loan_status_counts = df_loan.groupby('loan_status').count()['id'] #\n",
    "plt.bar(loan_status_counts.index, loan_status_counts)\n",
    "plt.xlabel('Loan Status') \n",
    "plt.ylabel('Count')\n",
    "plt.title('Number of Loans by Status')\n",
    " # Display the chart \n",
    "plt.show()\n",
    "\n"
   ]
  },
  {
   "cell_type": "markdown",
   "id": "5086fd4f",
   "metadata": {},
   "source": [
    "## Numerical Analysis 2\n",
    "\n",
    "**High Loan Amounts:** The right-skewed distribution of loan_amnt suggests that a significant proportion of loans are for larger amounts. Larger loans generally carry higher risk due to the potential for larger losses in case of default.\n",
    "\n",
    "**High Interest Rates:** The right-skewed distribution of int_rate indicates that a portion of loans have significantly higher interest rates. These loans are often associated with higher risk borrowers and may have a higher likelihood of default.\n",
    "\n",
    "**Income Distribution:** The right-skewed distribution of annual_inc suggests that a majority of borrowers have lower incomes. Borrowers with lower incomes may have limited capacity to repay loans, particularly if they have taken on larger amounts or have high interest rates."
   ]
  },
  {
   "cell_type": "code",
   "execution_count": null,
   "id": "04295130",
   "metadata": {},
   "outputs": [],
   "source": [
    "\n",
    "fig=plt.figure(constrained_layout=True,figsize=(20,50))\n",
    "gs=GridSpec(12,2,figure=fig)\n",
    "\n",
    "numerical = df_loan.select_dtypes(include=['float64']).columns\n",
    "\n",
    "i=j=0                                                                             \n",
    "for column in numerical:\n",
    "    #print(i,j)  \n",
    "    if (i==0) | (i==1):\n",
    "        ax=fig.add_subplot(gs[0,j])                                                                                                                                                                                                                                                                                                                                                                                                                                                                                                                                 \n",
    "    elif (i % 2)!= 0:\n",
    "         ax=fig.add_subplot(gs[i,j])                                                                     \n",
    "    else: \n",
    "         ax=fig.add_subplot(gs[i,j])          \n",
    "         \n",
    "    j+=1   \n",
    "\n",
    "    if (j>1): \n",
    "       j=0\n",
    "       i+=1 \n",
    "       \n",
    "    sns.histplot(df_loan[column], kde=True, color='blue',ax=ax,bins=10)          \n",
    "    title = \"Distribution of \" + column\n",
    "    plt.title(title)\n",
    "    plt.xlabel(column)\n",
    "    plt.ylabel('Frequency')\n",
    "plt.show()       \n",
    "   "
   ]
  },
  {
   "cell_type": "markdown",
   "id": "05f98dea",
   "metadata": {},
   "source": [
    "## Pie Plot (Loan Status, Grades and Purpose) Analysis 3"
   ]
  },
  {
   "cell_type": "markdown",
   "id": "15f2539d",
   "metadata": {},
   "source": [
    "This visualization can help us understand the proportion of loans that have been fully paid, charged off, or are currently in progress. \n",
    "- We can see that the majority of loans have been fully paid.\n",
    "- Most of the loans are for debt consolidation"
   ]
  },
  {
   "cell_type": "code",
   "execution_count": null,
   "id": "7b5eb2e0",
   "metadata": {},
   "outputs": [],
   "source": [
    "plt.figure(figsize=(20,8))\n",
    "ax1 = plt.subplot(1,3,1)\n",
    "df_loan['loan_status'].value_counts().plot.pie(autopct=\"%1.0f%%\", ax = ax1)\n",
    "plt.title('Loan Status')\n",
    "plt.xlabel('Loan Status')\n",
    "plt.ylabel('Percentage')\n",
    "ax2 = plt.subplot(1,3,2)\n",
    "df_loan['grade'].value_counts().plot.pie(autopct=\"%1.0f%%\", ax = ax2)\n",
    "plt.title('Grades')\n",
    "plt.xlabel('Grade')\n",
    "plt.ylabel('Percentage')\n",
    "ax3 = plt.subplot(1,3,3)\n",
    "df_loan['purpose'].value_counts().plot.pie( autopct='%1.1f%%', ax = ax3) \n",
    "plt.title('Loan Purposes')\n",
    "plt.ylabel('Percentage')\n",
    "\n",
    "plt.show()\n",
    "plt.show()"
   ]
  },
  {
   "cell_type": "markdown",
   "id": "f5b6e0a0",
   "metadata": {},
   "source": [
    "# Byvariate Analysis"
   ]
  },
  {
   "cell_type": "markdown",
   "id": "691bbb2f",
   "metadata": {},
   "source": [
    "## Box Plot Analysis 4 (Interest Rate by Grade,  Sub Grade and Loan Status)\n",
    "\n",
    "**High-Risk Grades (E, F, G):**\n",
    "\n",
    "High median interest rates, reflecting the high likelihood of default.\n",
    "\n",
    "Wider IQR and more outliers, signaling a significant variability in risk levels.\n",
    "\n",
    "**Risk Profile:**\n",
    "\n",
    "These grades represent borrowers with poor credit histories or unstable incomes.\n",
    "\n",
    "Lenders face a high risk of non-payment, which is offset by charging much higher interest rates.\n",
    "\n",
    "Current and default loan staus have highr interest rates than fully paid."
   ]
  },
  {
   "cell_type": "code",
   "execution_count": null,
   "id": "5cefc793",
   "metadata": {},
   "outputs": [],
   "source": [
    "df_loan=df_loan.sort_values(by=['grade','sub_grade'],ascending=True)\n",
    "fig=px.box(df_loan,x='grade', y='int_rate',color=\"grade\")\n",
    "fig.update_layout(title_text=\"Interest Rate by Grade\")\n",
    "fig.update_xaxes(title_text='Loan Grade')\n",
    "fig.update_yaxes(title_text='Interest Rate (%)')\n",
    "\n",
    "fig1=px.box(df_loan,x='sub_grade', y='int_rate',color=\"sub_grade\")\n",
    "fig1.update_xaxes(title_text='Loan Sub Grade')\n",
    "fig1.update_yaxes(title_text='Interest Rate (%)')\n",
    "fig1.update_layout(title_text=\"Interest Rate by Sub Grade\")\n",
    "\n",
    "fig2=px.box(df_loan,x='loan_status', y='int_rate',color=\"loan_status\")\n",
    "fig2.update_xaxes(title_text='Loan by status')\n",
    "fig2.update_yaxes(title_text='Interest Rate (%)')\n",
    "fig2.update_layout(title_text=\"Interest Rate by status\")\n",
    "\n",
    "fig3=px.box(df_loan,x='purpose', y='int_rate',color=\"purpose\")\n",
    "fig3.update_xaxes(title_text='Loan by purpose')\n",
    "fig3.update_yaxes(title_text='Interest Rate (%)')\n",
    "fig3.update_layout(title_text=\"Interest Rate by purpose\")\n",
    "\n",
    "fig4=px.box(df_loan,x='home_ownership', y='int_rate',color=\"home_ownership\")\n",
    "fig4.update_xaxes(title_text='Loan by home ownership')\n",
    "fig4.update_yaxes(title_text='Interest Rate (%)')\n",
    "fig4.update_layout(title_text=\"Interest Rate by home ownership\")\n",
    "\n",
    "\n",
    "fig.show()\n",
    "fig1.show()\n",
    "fig2.show()\n",
    "fig3.show()\n",
    "fig4.show()\n"
   ]
  },
  {
   "cell_type": "markdown",
   "id": "13bfa21f",
   "metadata": {},
   "source": [
    "## Scatter Plot Correlation Analysis 5\n",
    "\n",
    "**Weak Correlation:**\n",
    "\n",
    "The plot suggests no strong relationship between annual income and loan amount. Borrowers with similar incomes might request vastly different loan amounts.\n",
    "\n",
    "By analyzing these metrics together, you can assess the likelihood of a loan becoming risky or defaulting.  High late fees, outstanding principal, and low recoveries, it signals a larger risk to lenders and investors."
   ]
  },
  {
   "cell_type": "code",
   "execution_count": null,
   "id": "92abeb43",
   "metadata": {},
   "outputs": [],
   "source": [
    "fig=plt.figure(constrained_layout=True,figsize=(10,8))\n",
    "gs=GridSpec(3,2,figure=fig)\n",
    "#Grade Analysis\n",
    "ax6=fig.add_subplot(gs[0,0])\n",
    "\n",
    "sns.scatterplot(x=df_loan['annual_inc'], y=df_loan['loan_amnt'],ax=ax6) \n",
    "plt.xlabel('Annual Income') \n",
    "plt.ylabel('Loan Amount') \n",
    "plt.title('Scatter Plot of Annual Income vs. Loan Amount') \n",
    "\n",
    "\n",
    "ax6=fig.add_subplot(gs[0,1])\n",
    "sns.scatterplot(x=df_loan['annual_inc'], y=df_loan['dti'], ax=ax6) \n",
    "plt.xlabel('Annual Income') \n",
    "plt.ylabel('dti') \n",
    "plt.title('Scatter Plot of Debt to Debt to Income vs. Annual Income') \n",
    "\n",
    "\n",
    "ax6=fig.add_subplot(gs[1,0])\n",
    "sns.scatterplot(x=df_loan['total_acc'], y=df_loan['dti'],ax=ax6) \n",
    "plt.xlabel('Total Account') \n",
    "plt.ylabel('Dent to Income') \n",
    "plt.title('Scatter Plot of Debt to Income vs. total number of credit lines') \n",
    "\n",
    "\n",
    "ax6=fig.add_subplot(gs[1,1])\n",
    "sns.scatterplot(x=df_loan['loan_amnt'], y=df_loan['total_rec_late_fee'], color='red', ax=ax6)\n",
    "plt.title('Late Fees vs Loan Amount')\n",
    "plt.xlabel('Loan Amount')\n",
    "plt.ylabel('Late Fees')\n",
    "\n",
    "\n",
    "ax6=fig.add_subplot(gs[2,0])\n",
    "sns.scatterplot(x=df_loan['out_prncp_inv'], y=df_loan['recoveries'],ax=ax6) \n",
    "plt.xlabel('Out Standing Principal') \n",
    "plt.ylabel('recoveries') \n",
    "plt.title('Scatter Plot of Outstanding Principal vs. Recoveries') \n",
    "plt.show()"
   ]
  },
  {
   "cell_type": "code",
   "execution_count": null,
   "id": "b14f18d4",
   "metadata": {},
   "outputs": [],
   "source": [
    "df_loan[['loan_amnt', 'int_rate', 'dti', 'annual_inc', 'revol_bal', 'total_acc','funded_amnt','installment','out_prncp','total_pymnt','total_pymnt_inv','total_rec_prncp','total_rec_int','total_rec_late_fee','recoveries']].corr()"
   ]
  },
  {
   "cell_type": "code",
   "execution_count": 268,
   "id": "a6db068a",
   "metadata": {},
   "outputs": [],
   "source": [
    "# Define risk thresholds for filtering risky loans\n",
    "high_risk_criteria = (\n",
    "    (df_loan['grade'].isin(['E', 'F', 'G'])) |  # Low grades\n",
    "    (df_loan['int_rate'] > 18) |               # High interest rates (>18%)\n",
    "    (df_loan['dti'] > 30)                      # High Debt-to-Income ratio (>30%)\n",
    ")\n",
    "\n",
    "# Filter risky loans\n",
    "risky_loans = df_loan[high_risk_criteria]"
   ]
  },
  {
   "cell_type": "code",
   "execution_count": null,
   "id": "dbaf9275",
   "metadata": {},
   "outputs": [],
   "source": [
    "# Filter risky loans\n",
    "risky_loans = df_loan[high_risk_criteria]\n",
    "\n",
    "# Analyze the proportion of risky loans and their loan statuses\n",
    "risky_loans_status = risky_loans['loan_status'].value_counts(normalize=True) * 100\n",
    "\n",
    "# Summary statistics for risky loans\n",
    "risky_loans_summary = risky_loans.describe()\n",
    "\n",
    "risky_loans.shape, risky_loans_status, risky_loans_summary"
   ]
  },
  {
   "cell_type": "markdown",
   "id": "9ed8d62d",
   "metadata": {},
   "source": [
    "## Univariate and Byvariate Analysis 6 (Risky Loans) \n",
    "\n",
    "## Overall Observations\n",
    "\n",
    "**Loan Grades & Sub-Grades:** The distribution shows a concentration of risky loans in the lower grades (E, F, G) and their corresponding sub-grades. This aligns with expectations as lower grades typically represent higher risk.\n",
    "\n",
    "**Loan Status:** A significant portion of risky loans are either \"Charged Off\" (defaulted) or still \"Current\" (ongoing). This highlights the ongoing risk associated with these loans.\n",
    "\n",
    "**Interest Rates:** Risky loans consistently have higher interest rates compared to non-risky loans, indicating the lender's assessment of increased risk.\n",
    "Loan Purposes: Debt consolidation and credit card loans appear to be the most common purposes for risky loans. This suggests that borrowers struggling with existing debt may be more likely to take on higher-risk loans.\n",
    "\n",
    "**State Distribution:** The distribution of risky loans across states is not uniform. Some states have a higher concentration of risky loans compared to others, potentially indicating regional differences in risk factors.\n",
    "\n",
    "**Owner Distribution:** Rent and mortgage have higher concentration of risky loans compared to own and others,\n",
    "\n",
    "We can see that the majority of loans are for credit card debt consolidation, followed by other purposes such as home improvement and small business loans."
   ]
  },
  {
   "cell_type": "code",
   "execution_count": null,
   "id": "34fb254c",
   "metadata": {},
   "outputs": [],
   "source": [
    "#Distribution of Loan Grades (Risky Loans)\n",
    "fig=plt.figure(constrained_layout=True,figsize=(15,15))\n",
    "gs=GridSpec(4,2,figure=fig)\n",
    "\n",
    "#Grade Analysis\n",
    "grdRisky=fig.add_subplot(gs[0,0])\n",
    "sns.countplot(data=risky_loans, x='grade', order=['E', 'F', 'G'], palette='Reds',ax=grdRisky)\n",
    "plt.title('Distribution of Loan Grades (Risky Loans)')\n",
    "plt.xlabel('Grade')\n",
    "plt.ylabel('Count')\n",
    "\n",
    "grdRisky=fig.add_subplot(gs[0,1])\n",
    "sns.countplot(data=risky_loans, x='sub_grade', order=sorted(risky_loans['sub_grade']), palette='Reds',ax=grdRisky)\n",
    "plt.title('Distribution of Loan Sub Grades (Risky Loans)')\n",
    "plt.xlabel('Sub Grade')\n",
    "plt.ylabel('Count')\n",
    "\n",
    "grdRisky=fig.add_subplot(gs[1,0])\n",
    "sns.countplot(data=risky_loans, x='addr_state', order=risky_loans['addr_state'], palette='coolwarm',ax=grdRisky)\n",
    "plt.title('Distribution of Loan by States (Risky Loans)')\n",
    "plt.xlabel('States')\n",
    "plt.ylabel('Count')\n",
    "plt.xticks(rotation=90)\n",
    "\n",
    "#Interest Rate Comparison\n",
    "risky_loans['risk_category'] = 'Risky'\n",
    "non_risky_loans = df_loan[~high_risk_criteria]\n",
    "non_risky_loans['risk_category'] = 'Non-Risky'\n",
    "comparison_data = pd.concat([risky_loans, non_risky_loans])\n",
    "grdRisky=fig.add_subplot(gs[1,1])\n",
    "sns.boxplot(data=comparison_data, x='risk_category', y='int_rate', palette='coolwarm',ax=grdRisky)\n",
    "plt.title('Interest Rate Comparison: Risky vs Non-Risky Loans')\n",
    "plt.xlabel('Risk Category')\n",
    "plt.ylabel('Interest Rate (%)')\n",
    "\n",
    "\n",
    "\n",
    "# Default Trends in Risky Loans\n",
    "#plt.figure(figsize=(20, 12))\n",
    "risky_loan_status_counts = risky_loans['loan_status'].value_counts()\n",
    "grdRisky=fig.add_subplot(gs[2,0])\n",
    "risky_loan_status_counts.plot(kind='bar', color='darkorange', ax=grdRisky)\n",
    "plt.title('Loan Status Distribution (Risky Loans)')\n",
    "plt.xlabel('Loan Status')\n",
    "plt.ylabel('Number of Loans')\n",
    "plt.xticks(rotation=10)\n",
    "\n",
    "# Risky Loans by Purpose\n",
    "\n",
    "risky_loan_purpose_counts = risky_loans['purpose'].value_counts()\n",
    "grdRisky=fig.add_subplot(gs[2,1])\n",
    "sns.barplot(y=risky_loan_purpose_counts.values, x=risky_loan_purpose_counts.index, palette='Reds',ax=grdRisky)\n",
    "plt.title('Risky Loans by Purpose')\n",
    "plt.ylabel('Number of Loans')\n",
    "plt.xlabel('Purpose')\n",
    "plt.xticks(rotation=90)\n",
    "\n",
    "risky_loan_state_counts = risky_loans['addr_state'].value_counts()\n",
    "grdRisky=fig.add_subplot(gs[3,0])\n",
    "sns.barplot(y=risky_loan_state_counts.values, x=risky_loan_state_counts.index, palette='Reds',ax=grdRisky)\n",
    "plt.title('Risky Loans by State')\n",
    "plt.ylabel('Number of Loans')\n",
    "plt.xlabel('States')\n",
    "plt.xticks(rotation=90)\n",
    "\n",
    "risky_loan_home_owner_counts = risky_loans['home_ownership'].value_counts()\n",
    "grdRisky=fig.add_subplot(gs[3,1])\n",
    "sns.barplot(y=risky_loan_home_owner_counts.values, x=risky_loan_home_owner_counts.index, palette='Reds',ax=grdRisky)\n",
    "plt.title('Risky Loans by Home Ownership')\n",
    "plt.ylabel('Number of Loans')\n",
    "plt.xlabel('Home Ownership')\n",
    "plt.xticks(rotation=90)\n",
    "\n",
    "plt.show()\n"
   ]
  },
  {
   "cell_type": "markdown",
   "id": "ddfe1300",
   "metadata": {},
   "source": [
    "# Correlation Heat Map (Numerical Features) Byariate Analysis"
   ]
  },
  {
   "cell_type": "markdown",
   "id": "98040575",
   "metadata": {},
   "source": [
    "**Debt-to-Income Ratio (DTI) and Risk:**\n",
    "\n",
    "Negative correlation between DTI and annual income (-0.11): \n",
    "\n",
    "As income increases, the DTI ratio tends to decrease. A high DTI is a strong indicator of higher risk because it implies the borrower is already carrying a significant debt load relative to their income, which increases the likelihood of loan default.\n",
    "\n",
    "The weak positive correlation with loan amount (0.15) and revolving balance (0.26) also shows that higher loan amounts and higher balances tend to go hand-in-hand with a higher DTI, which is a risk factor for default.\n",
    "\n",
    "\n",
    "**Correlation between loan_amnt and other variables:**\n",
    "\n",
    "The loan amount (loan_amnt) has a moderate positive correlation with the interest rate (int_rate) at 0.30 and a slightly higher positive correlation with annual income (annual_inc) at 0.41.\n",
    "It also has moderate positive correlations with revolving balance (revol_bal) and total accounts (total_acc).\n",
    "Interest rate correlations:\n",
    "\n",
    "The interest rate (int_rate) has a low positive correlation with loan amount (loan_amnt), but it has very low correlations with other variables like annual income (annual_inc) and revolving balance (revol_bal)."
   ]
  },
  {
   "cell_type": "code",
   "execution_count": 271,
   "id": "44c867ae",
   "metadata": {},
   "outputs": [],
   "source": [
    "#categorical = df_loan.select_dtypes(include=['int64', 'float64']).columns"
   ]
  },
  {
   "cell_type": "code",
   "execution_count": null,
   "id": "0f800da0",
   "metadata": {},
   "outputs": [],
   "source": [
    "# Correlation Heat Map (Numerical Features)\n",
    "plt.figure(figsize=(15, 6))\n",
    "numerical_features =['loan_amnt', 'int_rate', 'dti', 'annual_inc', 'revol_bal', 'total_acc','funded_amnt','installment','out_prncp','total_pymnt','total_rec_prncp','total_rec_int','total_rec_late_fee','recoveries']\n",
    "#['loan_amnt', 'int_rate', 'dti', 'annual_inc', 'revol_bal', 'total_acc','funded_amnt','installment']\n",
    "correlation_matrix = risky_loans[numerical_features].corr()\n",
    "sns.heatmap(correlation_matrix, annot=True, cmap='coolwarm', fmt='.2f')\n",
    "plt.title('Correlation Heat Map of Risky Loans')\n",
    "plt.show()\n",
    "\n"
   ]
  },
  {
   "cell_type": "markdown",
   "id": "1a6b259f",
   "metadata": {},
   "source": [
    "# Correlation Heat Map (Categorical Features) Analysis"
   ]
  },
  {
   "cell_type": "markdown",
   "id": "2b337f6f",
   "metadata": {},
   "source": [
    "\n",
    "**Risk Implication:**\n",
    "\n",
    "Debt consolidation loans are often used by individuals facing financial stress or managing existing debt. Therefore, loan grades D and E, with their high frequencies for debt consolidation, may reflect higher financial distress and a higher risk of default.\n",
    "\n",
    "Credit card loans also seem to be somewhat common in these grades, further suggesting that borrowers in these grades may have challenges managing credit and could be at risk.\n",
    "\n",
    "**Risk Insights:**\n",
    "Debt consolidation is strongly associated with higher-risk borrowers (grades D, E, F, G and sub-grades D4, D5). Borrowers in these groups are likely facing financial struggles, making them higher-risk for loan defaults.\n",
    "\n",
    "Home improvement and small business loans, while somewhat common across sub-grades, show lower frequencies in riskier grades. These loan purposes may still indicate a level of financial planning or stability, but they are less prominent in the high-risk groups.\n",
    "\n",
    "Credit card loans show a mixed frequency across grades and sub-grades. This could suggest that some borrowers in lower grades are using loans for credit-related needs, which can indicate over-reliance on credit, adding to the default risk."
   ]
  },
  {
   "cell_type": "code",
   "execution_count": null,
   "id": "8a99ee8a",
   "metadata": {},
   "outputs": [],
   "source": [
    "#Frequency Heat Map (Grade vs Purpose)\n",
    "plt.figure(figsize=(20, 30))\n",
    "grade_purpose_pivot = risky_loans.pivot_table(index='purpose', columns='grade', aggfunc='size', fill_value=0)\n",
    "axGrdHM=plt.subplot(5,2,1)\n",
    "sns.heatmap(grade_purpose_pivot, annot=True, fmt='d', cmap='YlGnBu',ax=axGrdHM)\n",
    "plt.title('Frequency Heat Map: Grade vs Purpose (Risky Loans)')\n",
    "plt.xlabel('Grade')\n",
    "plt.ylabel('Purpose')\n",
    "\n",
    "axSubGrdHM=plt.subplot(5,2,2)\n",
    "grade_purpose_pivot = risky_loans.pivot_table(index='purpose', columns='sub_grade', aggfunc='size', fill_value=0)\n",
    "sns.heatmap(grade_purpose_pivot, annot=True, fmt='d', cmap='YlGnBu',ax=axSubGrdHM)\n",
    "plt.title('Frequency Heat Map: Sub Grade vs Purpose (Risky Loans)')\n",
    "plt.xlabel('Sub Grade')\n",
    "plt.ylabel('Purpose')\n",
    "\n",
    "axSubGrdHM=plt.subplot(5,2,3)\n",
    "grade_purpose_pivot = risky_loans.pivot_table(index='purpose', columns='loan_status', aggfunc='size', fill_value=0)\n",
    "sns.heatmap(grade_purpose_pivot, annot=True, fmt='d', cmap='YlGnBu',ax=axSubGrdHM)\n",
    "plt.title('Frequency Heat Map: loan status vs Purpose (Risky Loans)')\n",
    "plt.xlabel('loan status')\n",
    "plt.ylabel('Purpose')\n",
    "\n",
    "axSubGrdHM=plt.subplot(5,2,4)\n",
    "grade_purpose_pivot = risky_loans.pivot_table(index='home_ownership', columns='loan_status', aggfunc='size', fill_value=0)\n",
    "sns.heatmap(grade_purpose_pivot, annot=True, fmt='d', cmap='YlGnBu',ax=axSubGrdHM)\n",
    "plt.title('Frequency Heat Map: loan status vs home ownership (Risky Loans)')\n",
    "plt.xlabel('loan status')\n",
    "plt.ylabel('home ownership')\n",
    "\n",
    "plt.show()"
   ]
  },
  {
   "cell_type": "code",
   "execution_count": 274,
   "id": "4d91b2b3",
   "metadata": {},
   "outputs": [],
   "source": [
    "# # FICO Score vs Sub-Grades\n",
    "# plt.figure(figsize=(10, 6))\n",
    "# sns.boxplot(data=df_loan, x='sub_grade', y='last_fico_range_high', palette='coolwarm', order=sorted(df_loan['sub_grade'].unique()))\n",
    "# plt.title('FICO Score Distribution by Sub-Grade')\n",
    "# plt.xlabel('Sub-Grade')\n",
    "# plt.ylabel('FICO Range (Low)')\n",
    "# plt.xticks(rotation=45)\n",
    "# plt.show()"
   ]
  },
  {
   "cell_type": "markdown",
   "id": "4a5b6083",
   "metadata": {},
   "source": [
    "## Revolving Utilization Heatmap Analysis 7"
   ]
  },
  {
   "cell_type": "markdown",
   "id": "8a551399",
   "metadata": {},
   "source": [
    "**Sub Grade**\n",
    "\n",
    "Borrowers with sub-grades in the F and G categories represent high-risk groups due to their high revolving utilization. These borrowers are more likely to default or struggle with repayments.\n",
    "\n",
    "Borrowers with lower sub-grades (e.g., A and B) tend to use credit sparingly, making them safer for lenders.\n",
    "\n",
    "Higher sub-grade borrowers (E, F, G) exhibit risky behavior with higher utilization, potentially signaling over-leverage or poor financial management.\n",
    "\n",
    "\n",
    "**Grade**\n",
    "As the loan grade decreases (from A to G), the revolving utilization increases for each loan status category.\n",
    "\n",
    "There is variation within each grade and sub-grade, with some sub-grades showing significantly higher utilization rates, especially in the \"Charged Off\" and \"Fully Paid\" categories.\n",
    "\n",
    "\n",
    "**Loan Status Analysis:**\n",
    "\n",
    "Charged Off loans have significantly higher utilization compared to fully paid loans across all sub-grades, confirming that revolving utilization is a key risk indicator for defaults.\n",
    "\n",
    "Current loans are intermediate, showing higher utilization than fully paid loans but lower than charged off loans, reflecting their ongoing risk exposure.\n",
    "\n",
    "Lower sub-grades (A and B categories) demonstrate strong financial discipline, with consistently low utilization, even for charged-off loans.\n",
    "Borrowers in sub-grades G2, G3, and G4 are outliers with dangerously high utilization, particularly for charged-off and current loans."
   ]
  },
  {
   "cell_type": "code",
   "execution_count": null,
   "id": "7cf970d2",
   "metadata": {},
   "outputs": [],
   "source": [
    "# Revolving Utilization Heatmap\n",
    "plt.figure(figsize=(20, 20))\n",
    "axhmgrad=plt.subplot(4,2,1)\n",
    "sns.heatmap(df_loan.pivot_table(index='grade', columns='loan_status', values='revol_util', aggfunc='mean', fill_value=0),\n",
    "            annot=True, fmt='.1f', cmap='Reds', ax=axhmgrad)\n",
    "plt.title('Average Revolving Utilization by Grade and Loan Status')\n",
    "plt.xlabel('Loan Status')\n",
    "plt.ylabel('Grade')\n",
    "\n",
    "# Heatmap: Sub-Grade vs Loan Status (Revolving Utilization)\n",
    "axhmsubgrad=plt.subplot(4,2,2)\n",
    "sns.heatmap(df_loan.pivot_table(index='sub_grade', columns='loan_status', values='revol_util', aggfunc='mean', fill_value=0),\n",
    "            annot=True, fmt='.1f', cmap='Reds', ax=axhmsubgrad)\n",
    "plt.title('Average Revolving Utilization by Sub-Grade and Loan Status')\n",
    "plt.xlabel('Loan Status')\n",
    "plt.ylabel('Sub-Grade')\n",
    "\n",
    "# Sub-Grade vs Revolving Utilization: Bar Plot\n",
    "#plt.figure(figsize=(12, 8))\n",
    "axhmsubgrad=plt.subplot(4,2,3)\n",
    "sns.heatmap(df_loan.pivot_table(index='purpose', columns='loan_status', values='revol_util', aggfunc='mean', fill_value=0),\n",
    "            annot=True, fmt='.1f', cmap='Reds', ax=axhmsubgrad)\n",
    "plt.title('Average Revolving Utilization by purpose')\n",
    "plt.xlabel('loan status')\n",
    "plt.ylabel('Average Revolving Utilization (%)')\n",
    "plt.xticks(rotation=45)\n",
    "\n",
    "axhmsubgrad=plt.subplot(4,2,4)\n",
    "sns.heatmap(df_loan.pivot_table(index='home_ownership', columns='loan_status', values='revol_util', aggfunc='mean', fill_value=0),\n",
    "            annot=True, fmt='.1f', cmap='Reds', ax=axhmsubgrad)\n",
    "plt.title('Average Revolving Utilization by home ownership')\n",
    "plt.xlabel('loan status')\n",
    "plt.ylabel('Average Revolving Utilization (%)')\n",
    "plt.xticks(rotation=45)\n",
    "plt.show()"
   ]
  },
  {
   "cell_type": "markdown",
   "id": "3bc56951",
   "metadata": {},
   "source": [
    "# Box Plot: Loan Status vs Revolving Utilization"
   ]
  },
  {
   "cell_type": "markdown",
   "id": "fdb6009d",
   "metadata": {},
   "source": [
    "**Fully Paid Loans:**\n",
    "\n",
    "Median revolving utilization is lower compared to the other statuses.\n",
    "\n",
    "Indicates that borrowers who fully repay loans tend to have more conservative credit usage.\n",
    "\n",
    "The interquartile range (IQR) shows a narrower spread, suggesting more consistent credit behavior.\n",
    "Charged Off Loans:\n",
    "\n",
    "**Charged Off Loans:**\n",
    "\n",
    "Median utilization is higher than Fully Paid loans, suggesting riskier credit behavior.\n",
    "\n",
    "The IQR is wider, indicating a higher variability in credit usage among borrowers whose loans are charged off.\n",
    "\n",
    "Borrowers in this group often have high utilization, hinting at financial stress or over-leverage.\n",
    "Current Loans:\n",
    "\n",
    "**Current Loans:**\n",
    "\n",
    "Median utilization is slightly below Charged Off loans but above Fully Paid loans.\n",
    "\n",
    "Reflects borrowers who are actively paying loans but may have higher revolving credit balances.\n",
    "\n",
    "IQR suggests a moderate spread, showing variability in usage but less than Charged Off loans."
   ]
  },
  {
   "cell_type": "code",
   "execution_count": 276,
   "id": "bafa6735",
   "metadata": {},
   "outputs": [],
   "source": [
    "categorical = df_loan.select_dtypes(include=['int64', 'float64']).columns"
   ]
  },
  {
   "cell_type": "code",
   "execution_count": null,
   "id": "f2fe6406",
   "metadata": {},
   "outputs": [],
   "source": [
    "# Box Plot: Loan Status vs Revolving Utilization\n",
    "fig2=px.box(df_loan,x='loan_status', y='revol_util',color=\"loan_status\")\n",
    "fig2.update_xaxes(title_text='Loan Status')\n",
    "fig2.update_yaxes(title_text='Revolving Utilization (%)')\n",
    "fig2.update_layout(title_text=\"Revolving Utilization by Loan Status\")\n",
    "fig2.show()\n",
    "\n"
   ]
  },
  {
   "cell_type": "code",
   "execution_count": 278,
   "id": "5936b0a3",
   "metadata": {},
   "outputs": [],
   "source": [
    "# # Histogram: Distribution of Revolving Utilization\n",
    "# plt.figure(figsize=(10, 6))\n",
    "# sns.histplot(data=df_loan, x='revol_util', bins=30, kde=True, color='purple')\n",
    "# plt.title('Distribution of Revolving Utilization')\n",
    "# plt.xlabel('Revolving Utilization (%)')\n",
    "# plt.ylabel('Frequency')\n",
    "# plt.show()"
   ]
  },
  {
   "cell_type": "markdown",
   "id": "ff79e1dd",
   "metadata": {},
   "source": [
    "## Analysis 8 (Loan Status by Employment Length, Verification Status etc)"
   ]
  },
  {
   "cell_type": "markdown",
   "id": "d2b97a8d",
   "metadata": {},
   "source": [
    "**Employment Length and Loan Status:**\n",
    " \n",
    " The chart reveals that the majority of loans are held by individuals with employment lengths of 10+ years and 1 year. However, the proportion of \"Charged Off\" loans seems to be slightly higher for individuals with shorter employment lengths (< 1 year).\n",
    "\n",
    "The chart highlights how verification status varies across loan grades, reflecting different levels of borrower risk and lending practices:\n",
    "\n",
    "Grades A and B dominate in terms of the total number of loans issued. However, a significant portion of these loans is Not Verified, which could pose risks even for borrowers with strong profiles.\n",
    "\n",
    "Lower loan grades (E, F, G) exhibit a smaller volume of loans but show relatively higher proportions of Not Verified and Source Verified loans. This suggests a need for stricter verification processes to mitigate risk in these higher-risk categories.\n",
    "\n",
    "Mid-range Grades (C and D) act as a transition point, where there is a more balanced distribution of verified and non-verified loans.\n",
    "\n",
    "**Fully Paid Loans:**\n",
    "\n",
    "The majority of loans, across all verification statuses, are Fully Paid.\n",
    "Loans classified as Not Verified have the highest count of fully paid loans, suggesting that verification status alone may not be a determinant of repayment success.\n",
    "\n",
    "**Charged Off Loans:**\n",
    "\n",
    "Loans that are Not Verified have a slightly higher count of Charged Off loans compared to Source Verified and Verified loans.\n",
    "This indicates a potential risk associated with loans that lack proper verification.\n",
    "\n",
    "**Current Loans:**\n",
    "\n",
    "Loans currently in repayment or ongoing status are relatively fewer across all verification statuses.\n",
    "The proportion of Current Loans is consistent, suggesting that verification does not heavily influence ongoing repayments.\n",
    "\n",
    "**Key Insights:**\n",
    "\n",
    "While most loans are fully paid, there is a higher proportion of charged-off loans among Not Verified loans, indicating a risk for lenders.\n",
    "Strengthening verification measures might reduce defaults, even if not all loans are fully verified."
   ]
  },
  {
   "cell_type": "code",
   "execution_count": null,
   "id": "f59f452d",
   "metadata": {},
   "outputs": [],
   "source": [
    "# Bar Plot: Loan Status by Employment Length\n",
    "plt.figure(figsize=(12, 8))\n",
    "emp_length_status = df_loan.groupby(['emp_length', 'loan_status']).size().unstack()\n",
    "emp_length_status.plot(kind='bar', stacked=True, color=['salmon','skyblue', 'green'], figsize=(12, 8))\n",
    "plt.title('Loan Status by Employment Length')\n",
    "plt.xlabel('Employment Length')\n",
    "plt.ylabel('Number of Loans')\n",
    "plt.legend(title='Loan Status')\n",
    "plt.xticks(rotation=45)\n",
    "plt.show()\n",
    "\n",
    "# Heatmap: Employment Length vs Sub-Grade\n",
    "plt.figure(figsize=(12, 8))\n",
    "emp_length_sub_grade_pivot = df_loan.pivot_table(\n",
    "    index='emp_length', \n",
    "    columns='sub_grade', \n",
    "    aggfunc='size', \n",
    "    fill_value=0\n",
    ")\n",
    "sns.heatmap(emp_length_sub_grade_pivot, annot=True, fmt='d', cmap='YlGnBu')\n",
    "plt.title('Heatmap: Employment Length vs Sub-Grade')\n",
    "plt.xlabel('Sub-Grade')\n",
    "plt.ylabel('Employment Length')\n",
    "plt.show()\n",
    "\n",
    "\n",
    "# Bar Plot: Loan Status by Verification Status\n",
    "plt.figure(figsize=(10, 6))\n",
    "sns.countplot(data=df_loan, x='verification_status', hue='loan_status', palette='Set2')\n",
    "plt.title('Loan Status by Verification Status')\n",
    "plt.xlabel('Verification Status')\n",
    "plt.ylabel('Count')\n",
    "plt.legend(title='Loan Status')\n",
    "plt.show()\n",
    "\n",
    "# Stacked Bar Chart: Verification Status by Loan Grade\n",
    "verification_grade = df_loan.groupby(['grade', 'verification_status']).size().unstack()\n",
    "verification_grade.plot(kind='bar', stacked=True, color=['red', 'orange', 'lightgreen'], figsize=(12, 8))\n",
    "plt.title('Verification Status by Loan Grade')\n",
    "plt.xlabel('Loan Grade')\n",
    "plt.ylabel('Number of Loans')\n",
    "plt.legend(title='Verification Status')\n",
    "plt.xticks(rotation=0)\n",
    "plt.show()"
   ]
  },
  {
   "cell_type": "markdown",
   "id": "8a9d2c0c",
   "metadata": {},
   "source": [
    "## Analysis 9 (Home Ownership)"
   ]
  },
  {
   "cell_type": "markdown",
   "id": "34050446",
   "metadata": {},
   "source": [
    "**Home Ownership and Interest Rates:** \n",
    "The box plot suggests a general trend that individuals with \"NONE\" or \"OTHER\" home ownership status tend to have lower interest rates compared to those who mortgage, rent, or own their homes.\n",
    "\n",
    "**Variability:** There's significant variability in interest rates across all home ownership categories. This indicates that other factors besides home ownership likely influence interest rates.\n",
    "\n",
    "**Outliers:** The presence of outliers suggests that some individuals within each category have interest rates that deviate significantly from the typical range.\n",
    "\n",
    "\n",
    "**Home Ownership:** The chart suggests that individuals who rent or own their homes might have lower credit risk compared to those with \"OTHER\" or \"NONE\" home ownership status. This is because renting or owning a home often indicates financial stability and responsibility.\n",
    "**Loan Status:** The presence of \"Charged Off\" loans across all home ownership categories indicates that credit risk exists regardless of home ownership status."
   ]
  },
  {
   "cell_type": "code",
   "execution_count": null,
   "id": "a46e7f20",
   "metadata": {},
   "outputs": [],
   "source": [
    "# Bar Plot: Loan Status by Home Ownership\n",
    "plt.figure(figsize=(10, 6))\n",
    "sns.countplot(data=df_loan, x='home_ownership', hue='loan_status', palette='coolwarm')\n",
    "plt.title('Loan Status by Home Ownership')\n",
    "plt.xlabel('Home Ownership')\n",
    "plt.ylabel('Count')\n",
    "plt.legend(title='Loan Status')\n",
    "plt.xticks(rotation=45)\n",
    "plt.show()\n",
    "\n",
    "# Stacked Bar Chart: Home Ownership by Loan Grade\n",
    "home_ownership_grade = df_loan.groupby(['grade', 'home_ownership']).size().unstack()\n",
    "home_ownership_grade.plot(kind='bar', stacked=True, figsize=(12, 8), color=['lightblue', 'lightgreen', 'salmon', 'gray'])\n",
    "plt.title('Home Ownership by Loan Grade')\n",
    "plt.xlabel('Loan Grade')\n",
    "plt.ylabel('Number of Loans')\n",
    "plt.legend(title='Home Ownership')\n",
    "plt.xticks(rotation=0)\n",
    "plt.show()\n",
    "\n",
    "# Pie Chart: Overall Distribution of Home Ownership\n",
    "plt.figure(figsize=(8, 8))\n",
    "home_ownership_counts = df_loan['home_ownership'].value_counts()\n",
    "home_ownership_counts.plot(kind='pie', autopct='%1.1f%%', startangle=90, colors=['gold', 'skyblue', 'lightcoral', 'lightgray'])\n",
    "plt.title('Overall Distribution of Home Ownership')\n",
    "plt.xticks(rotation=90)\n",
    "plt.ylabel('')\n",
    "plt.show()\n",
    "\n",
    "# Box Plot: Interest Rates by Home Ownership\n",
    "plt.figure(figsize=(10, 6))\n",
    "sns.boxplot(data=df_loan, x='home_ownership', y='int_rate', palette='pastel')\n",
    "plt.title('Interest Rates by Home Ownership')\n",
    "plt.xlabel('Home Ownership')\n",
    "plt.ylabel('Interest Rate (%)')\n",
    "plt.xticks(rotation=20)\n",
    "plt.show()"
   ]
  },
  {
   "cell_type": "markdown",
   "id": "086ce452",
   "metadata": {},
   "source": [
    "## Bar Chart (Bankruptcies and Loan Status) Analysis  10\n",
    "\n",
    "**Bankruptcies and Loan Status:** The chart shows a clear trend: as the number of public record bankruptcies increases, the proportion of \"Charged Off\" loans also increases. This suggests that borrowers with a history of bankruptcies are more likely to default on their loans.\n",
    "\n",
    "**Loan Distribution:** The vast majority of loans are held by individuals with no public record bankruptcies. The number of loans decreases significantly as the number of bankruptcies increases."
   ]
  },
  {
   "cell_type": "code",
   "execution_count": null,
   "id": "f2e6b8a0",
   "metadata": {},
   "outputs": [],
   "source": [
    " #Bar Plot: Loan Status by Charge-Offs Within 12 Months\n",
    "plt.figure(figsize=(10, 6))\n",
    "sns.countplot(data=df_loan, x='chargeoff_within_12_mths', hue='loan_status', palette='Set1')\n",
    "plt.title('Loan Status by Charge-Offs Within 12 Months')\n",
    "plt.xlabel('Charge-Offs Within 12 Months')\n",
    "plt.ylabel('Count')\n",
    "plt.legend(title='Loan Status')\n",
    "plt.xticks(rotation=45)\n",
    "plt.show()\n",
    "\n",
    "# Box Plot: Delinquency Amount by Loan Grade\n",
    "plt.figure(figsize=(10, 6))\n",
    "sns.boxplot(data=df_loan, x='grade', y='delinq_amnt', palette='pastel')\n",
    "plt.title('Delinquency Amount by Loan Grade')\n",
    "plt.xlabel('Loan Grade')\n",
    "plt.ylabel('Delinquency Amount ($)')\n",
    "plt.show()\n",
    "\n",
    "# Bar Plot: Loan Status by Public Record Bankruptcies\n",
    "plt.figure(figsize=(10, 6))\n",
    "sns.countplot(data=df_loan, x='pub_rec_bankruptcies', hue='loan_status', palette='coolwarm')\n",
    "plt.title('Loan Status by Public Record Bankruptcies')\n",
    "plt.xlabel('Public Record Bankruptcies')\n",
    "plt.ylabel('Count')\n",
    "plt.legend(title='Loan Status')\n",
    "plt.xticks(rotation=45)\n",
    "plt.show()\n",
    "\n",
    "# Stacked Bar Chart: Tax Liens by Loan Grade\n",
    "tax_liens_grade = df_loan.groupby(['grade', 'tax_liens']).size().unstack()\n",
    "tax_liens_grade.plot(kind='bar', stacked=True, figsize=(12, 8), color=['lightblue', 'gold','lightcoral'])\n",
    "plt.title('Tax Liens by Loan Grade')\n",
    "plt.xlabel('Loan Grade')\n",
    "plt.ylabel('Number of Loans')\n",
    "plt.legend(title='Tax Liens')\n",
    "plt.xticks(rotation=0)\n",
    "plt.show()"
   ]
  },
  {
   "cell_type": "markdown",
   "id": "c92798ff",
   "metadata": {},
   "source": [
    "## The box plot Recovery Rate Analysis 11"
   ]
  },
  {
   "cell_type": "markdown",
   "id": "d02ccf4b",
   "metadata": {},
   "source": [
    "**Low Recovery Rates:** The box plot indicates that recoveries for \"Charged Off\" loans are generally low. This highlights the significant credit risk associated with these loans and the potential for substantial losses for the lender."
   ]
  },
  {
   "cell_type": "code",
   "execution_count": null,
   "id": "3ccee32a",
   "metadata": {},
   "outputs": [],
   "source": [
    "\n",
    "recoveries=df_loan[(df_loan.recoveries >1000) & (df_loan.recoveries <= 30000)]\n",
    "recoveries.recoveries.value_counts()\n",
    "sns.boxplot(x='loan_status', y='recoveries', data=recoveries)\n",
    "plt.title('Recoveries by Loan Status')\n",
    "plt.show()"
   ]
  },
  {
   "cell_type": "markdown",
   "id": "62ac5419",
   "metadata": {},
   "source": [
    "## Scatter Plot Analysis 12\n",
    "\n",
    "**Conclusion:**\n",
    "\n",
    "Loan repayment (total_pymnt) strongly depends on the funded amount.\n",
    "\n",
    "Interest rates are relatively independent of borrowers’ annual income, suggesting risk assessment uses other factors.\n",
    "\n",
    "**High Revolving Balance & Utilization:** A high revol_bal coupled with a high revol_util suggests that borrowers are heavily utilizing their available credit. This could indicate financial strain and a higher risk of default.\n",
    "\n",
    "**Low Income:** Borrowers with low annual_inc might have limited capacity to repay loans, particularly if they have taken on large funded_amnt.\n",
    "**Loan Size:** Large funded_amnt loans generally carry higher risk due to the potential for larger losses in case of default."
   ]
  },
  {
   "cell_type": "code",
   "execution_count": null,
   "id": "0b032262",
   "metadata": {},
   "outputs": [],
   "source": [
    "df_loan[['int_rate','annual_inc','funded_amnt','total_pymnt','revol_bal','revol_util']].dropna().corr()"
   ]
  },
  {
   "cell_type": "code",
   "execution_count": null,
   "id": "bbf71616",
   "metadata": {},
   "outputs": [],
   "source": [
    "plt.figure(figsize=(5,3))\n",
    "sns.pairplot(df_loan[['int_rate','annual_inc','funded_amnt','total_pymnt','revol_bal','revol_util']].dropna())\n",
    "plt.show()"
   ]
  },
  {
   "cell_type": "code",
   "execution_count": 285,
   "id": "aa7d8714",
   "metadata": {},
   "outputs": [],
   "source": [
    "# df_loan[['total_rec_prncp', 'total_rec_int']].plot(kind='bar', stacked=True, figsize=(10, 6))\n",
    "# plt.title('Distribution of Loan Repayments (Principal vs Interest)')\n",
    "# plt.ylabel('Amount')\n",
    "# plt.show()"
   ]
  },
  {
   "cell_type": "code",
   "execution_count": 286,
   "id": "7b2e0b43",
   "metadata": {},
   "outputs": [],
   "source": [
    "# for col in df_loan.columns:\n",
    "#     if df_loan[col].dtype==\"object\":\n",
    "#         print(df_loan[col].value_counts())\n",
    "#         print(\"----\"*20)"
   ]
  },
  {
   "cell_type": "code",
   "execution_count": null,
   "id": "804c2ea8",
   "metadata": {},
   "outputs": [],
   "source": [
    "def create_presentation_from_markdown(md_file, output_pptx):\n",
    "    \"\"\"\n",
    "    Generate a PowerPoint presentation from a Markdown file.\n",
    "\n",
    "    :param md_file: Path to the Markdown file.\n",
    "    :param output_pptx: Path to save the generated PowerPoint file.\n",
    "    \"\"\"\n",
    "    # Create a new PowerPoint presentation\n",
    "    presentation = Presentation()\n",
    "\n",
    "    # Open and read the Markdown file\n",
    "    with open(md_file, 'r') as file:\n",
    "        lines = file.readlines()\n",
    "\n",
    "    # Variables to store slide information\n",
    "    current_slide = None\n",
    "    for line in lines:\n",
    "        # If the line starts with #, it's a title\n",
    "        if line.startswith('#'):\n",
    "            level = line.count('#')\n",
    "            title = line.strip('#').strip()\n",
    "\n",
    "            if level == 1:\n",
    "                # Add a new title slide\n",
    "                current_slide = presentation.slides.add_slide(presentation.slide_layouts[0])\n",
    "                current_slide.shapes.title.text = title\n",
    "\n",
    "            elif level == 2:\n",
    "                # Add a new slide with a title and content\n",
    "                current_slide = presentation.slides.add_slide(presentation.slide_layouts[1])\n",
    "                current_slide.shapes.title.text = title\n",
    "\n",
    "        # Otherwise, it's content for the current slide\n",
    "        elif current_slide and line.strip():\n",
    "            # Add content to the slide\n",
    "            textbox = current_slide.placeholders[1]\n",
    "            textbox.text += line.strip() + '\\n'\n",
    "\n",
    "    # Save the PowerPoint presentation\n",
    "    presentation.save(output_pptx)\n",
    "\n",
    "# Usage\n",
    "markdown_file = \"README.md\"  # Replace with the path to your Markdown file\n",
    "output_pptx_file = \"Loan_Application_Case_Study.pptx\"  # Replace with the desired output file path\n",
    "create_presentation_from_markdown(markdown_file, output_pptx_file)"
   ]
  },
  {
   "cell_type": "code",
   "execution_count": null,
   "id": "386a261e",
   "metadata": {},
   "outputs": [],
   "source": []
  }
 ],
 "metadata": {
  "hide_input": false,
  "kernelspec": {
   "display_name": "Python 3",
   "language": "python",
   "name": "python3"
  },
  "language_info": {
   "codemirror_mode": {
    "name": "ipython",
    "version": 3
   },
   "file_extension": ".py",
   "mimetype": "text/x-python",
   "name": "python",
   "nbconvert_exporter": "python",
   "pygments_lexer": "ipython3",
   "version": "3.10.13"
  }
 },
 "nbformat": 4,
 "nbformat_minor": 5
}
