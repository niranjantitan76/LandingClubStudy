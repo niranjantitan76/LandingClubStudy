{
 "cells": [
  {
   "cell_type": "markdown",
   "id": "dce9de2d",
   "metadata": {},
   "source": [
    "### EDA- Landing Club Study"
   ]
  },
  {
   "cell_type": "markdown",
   "id": "96404196",
   "metadata": {},
   "source": [
    "### Objectives:\n",
    "\n",
    "**Importing necessary Modules**:\n",
    "- Import the modules necessary for Data Manipulation and Visualization.\n",
    "\n",
    "**Reading dataset**:\n",
    "- Read the dataset containing loan applicant information.\n",
    "\n",
    "**Exploring the Dataset**:\n",
    "- Understand the Structure and various datatypes of the attributes within the dataset.\n",
    "\n",
    "**Missing value analysis**:\n",
    "- Identify and analyze missing values in the dataset.\n",
    "\n",
    "**Analysing categorical and numerical columns**:\n",
    "- Analyze categorical and numerical columns to understand the statistical properties and relationships within the dataset.\n",
    "\n",
    "**Univariate Analysis**:\n",
    "- Conduct univariate analysis to explore the distribution and characteristics of individual variables.\n",
    "\n",
    "**Outliers**:\n",
    "- Identify and analyze outliers within the dataset to understand their impact on the analysis.\n",
    "\n",
    "**Bivariate analysis**:\n",
    "- Conduct bivariate analysis to explore relationships between different variables and their impact on loan default rates."
   ]
  },
  {
   "cell_type": "code",
   "execution_count": 288,
   "id": "493fe514",
   "metadata": {},
   "outputs": [],
   "source": [
    "#!pip install plotly"
   ]
  },
  {
   "cell_type": "code",
   "execution_count": 289,
   "id": "93f5d6fd",
   "metadata": {},
   "outputs": [],
   "source": [
    "# Importing libraries\n",
    "import pandas as pd\n",
    "import warnings\n",
    "import matplotlib.pyplot as plt\n",
    "import seaborn as sns\n",
    "warnings.filterwarnings(\"ignore\")\n",
    "pd.options.display.max_columns=None\n",
    "pd.options.display.max_rows=None\n",
    "import sketch as sketch\n",
    "import os\n",
    "import plotly.express as px \n",
    "#os.environ['SKETCH_MAX_COLUMNS']= '55'\n"
   ]
  },
  {
   "cell_type": "code",
   "execution_count": null,
   "id": "95d20bde",
   "metadata": {},
   "outputs": [],
   "source": [
    "\n",
    "df_loan=pd.read_csv(\"loan.csv\")\n",
    "df_loan.shape"
   ]
  },
  {
   "cell_type": "code",
   "execution_count": null,
   "id": "2dbab019",
   "metadata": {},
   "outputs": [],
   "source": [
    "df_loan.head()"
   ]
  },
  {
   "cell_type": "code",
   "execution_count": null,
   "id": "8ef965d0",
   "metadata": {},
   "outputs": [],
   "source": [
    "# \n",
    "df_loan.info()"
   ]
  },
  {
   "cell_type": "code",
   "execution_count": null,
   "id": "6d21ceb9",
   "metadata": {},
   "outputs": [],
   "source": [
    "df_loan.isna().sum()"
   ]
  },
  {
   "cell_type": "code",
   "execution_count": null,
   "id": "bb482734",
   "metadata": {},
   "outputs": [],
   "source": [
    "df_loan_percentage=round(df_loan.isna().sum()/len(df_loan)*100,2)\n",
    "df_loan_percentage"
   ]
  },
  {
   "cell_type": "markdown",
   "id": "6ae01d27",
   "metadata": {},
   "source": [
    "## DATA CLEANING"
   ]
  },
  {
   "cell_type": "code",
   "execution_count": 295,
   "id": "068ef82c",
   "metadata": {},
   "outputs": [],
   "source": [
    "## remove all null values columns\n",
    "\n",
    "df_loan=df_loan.dropna(axis=1,how='all')"
   ]
  },
  {
   "cell_type": "code",
   "execution_count": null,
   "id": "98bc8004",
   "metadata": {},
   "outputs": [],
   "source": [
    "\n",
    "len(df_loan.columns)"
   ]
  },
  {
   "cell_type": "code",
   "execution_count": null,
   "id": "a3b1964b",
   "metadata": {},
   "outputs": [],
   "source": [
    "# null % per column\n",
    "round(df_loan.isna().sum()/len(df_loan)*100,2)\n"
   ]
  },
  {
   "cell_type": "code",
   "execution_count": null,
   "id": "5cd0be69",
   "metadata": {},
   "outputs": [],
   "source": [
    "df_loan.isna().sum()"
   ]
  },
  {
   "cell_type": "code",
   "execution_count": null,
   "id": "c47181d2",
   "metadata": {},
   "outputs": [],
   "source": [
    "\n",
    "df_loan.recoveries.value_counts()"
   ]
  },
  {
   "cell_type": "code",
   "execution_count": 300,
   "id": "47652038",
   "metadata": {},
   "outputs": [],
   "source": [
    "# cleaning\n",
    "df_loan.int_rate=df_loan.int_rate.str.replace('%','')\n",
    "df_loan.revol_util=df_loan.revol_util.str.replace('%','')\n",
    "df_loan.term=df_loan.term.str.replace('months','')\n"
   ]
  },
  {
   "cell_type": "code",
   "execution_count": 301,
   "id": "ec6bee35",
   "metadata": {},
   "outputs": [],
   "source": [
    "#type conversion\n",
    "df_loan.int_rate=df_loan.int_rate.astype(float)\n",
    "df_loan.revol_util=df_loan.revol_util.astype(float)\n",
    "df_loan.recoveries=df_loan.recoveries.astype(float)\n",
    "#  df_loanrevol_bal\n",
    "# df_loan.total_acc\n",
    "# df_loan.funded_amnt\n",
    "# df_loaninstallment\n",
    "# df_loanout_prncp\n",
    "# df_loantotal_pymnt','total_rec_prncp','total_rec_int','total_rec_late_fee','recoveries']\n",
    "df_loan.term=df_loan.term.astype(int)\n",
    "df_loan.emp_length=df_loan.emp_length.astype(str)\n",
    "df_loan.desc=df_loan.desc.astype(str)\n",
    "df_loan.title=df_loan.title.astype(str)\n",
    "df_loan.issue_d=df_loan.issue_d.astype(str)"
   ]
  },
  {
   "cell_type": "code",
   "execution_count": 302,
   "id": "39c01b18",
   "metadata": {},
   "outputs": [],
   "source": [
    "# Handle missing values \n",
    "df_loan['emp_length'] = df_loan['emp_length'].fillna('Unknown')\n",
    "df_loan['title'] = df_loan['title'].fillna('Unknown')\n",
    "df_loan['desc'] = df_loan['desc'].fillna('')\n",
    "df_loan['chargeoff_within_12_mths'] = df_loan['chargeoff_within_12_mths'].fillna(0)\n",
    "df_loan['pub_rec_bankruptcies'] = df_loan['pub_rec_bankruptcies'].fillna(0)\n",
    "\n",
    "df_loan['total_pymnt']=round(df_loan['total_pymnt'],2)"
   ]
  },
  {
   "cell_type": "code",
   "execution_count": 303,
   "id": "d531a861",
   "metadata": {},
   "outputs": [],
   "source": [
    "#Derived Columns\n",
    "df_loan['issue_month']=df_loan['issue_d'].apply(lambda x:  x.split('-')[0])\n",
    "df_loan['issue_year']=df_loan['issue_d'].apply(lambda x:  x.split('-')[1])"
   ]
  },
  {
   "cell_type": "code",
   "execution_count": null,
   "id": "6a62596d",
   "metadata": {},
   "outputs": [],
   "source": [
    "round(df_loan.isna().sum()/len(df_loan)*100,2)"
   ]
  },
  {
   "cell_type": "code",
   "execution_count": null,
   "id": "a8fc09af",
   "metadata": {},
   "outputs": [],
   "source": [
    "df_loan.shape"
   ]
  },
  {
   "cell_type": "code",
   "execution_count": null,
   "id": "35e11ed7",
   "metadata": {},
   "outputs": [],
   "source": [
    "df_loan.info()"
   ]
  },
  {
   "cell_type": "code",
   "execution_count": null,
   "id": "be0066a6",
   "metadata": {},
   "outputs": [],
   "source": [
    "df_loan.desc.value_counts()"
   ]
  },
  {
   "cell_type": "markdown",
   "id": "7c07a0b5",
   "metadata": {},
   "source": [
    "## Analysis 1"
   ]
  },
  {
   "cell_type": "code",
   "execution_count": null,
   "id": "dc759254",
   "metadata": {},
   "outputs": [],
   "source": [
    "from matplotlib.gridspec import GridSpec\n",
    "fig=plt.figure(constrained_layout=True,figsize=(20,10))\n",
    "gs=GridSpec(2,2,figure=fig)\n",
    "#Grade Analysis\n",
    "ax6=fig.add_subplot(gs[0,0])\n",
    "sns.countplot(data=df_loan, x='grade', order=sorted(df_loan['grade'].unique()), palette='viridis',ax=ax6)\n",
    "plt.title('Distribution of Grades')\n",
    "plt.xlabel('Grade')\n",
    "plt.ylabel('Count')\n",
    "\n",
    "#Sub-Grade Analysis\n",
    "ax5=fig.add_subplot(gs[0,1])\n",
    "sns.countplot(data=df_loan, x='sub_grade', order=sorted(df_loan['sub_grade'].unique()), palette='viridis',ax=ax5)\n",
    "plt.title('Distribution of Sub-Grades')\n",
    "plt.xlabel('Sub-Grade')\n",
    "plt.ylabel('Count')\n",
    "\n",
    "#State Analysis\n",
    "\n",
    "ax5=fig.add_subplot(gs[1,0])\n",
    "#sns.countplot(data=df_loan, x='addr_state', order=df_loan['addr_state'].unique(), palette='viridis',ax=ax5)\n",
    "df_loan.addr_state.value_counts().plot(kind='bar')\n",
    "plt.title('Distribution of States')\n",
    "plt.xlabel('States')\n",
    "plt.ylabel('Count')\n",
    "\n",
    "ax5=fig.add_subplot(gs[1,1])\n",
    "sns.histplot(df_loan['loan_amnt'], kde=True, bins=10, color='blue',ax=ax5)\n",
    "plt.title('Distribution of Loan Amounts')\n",
    "plt.xlabel('Loan Amount')\n",
    "plt.ylabel('Frequency')\n",
    "plt.show()"
   ]
  },
  {
   "cell_type": "markdown",
   "id": "e7c869c2",
   "metadata": {},
   "source": [
    "This visualization can help us understand the distribution of loan amounts in the dataset. We can see that most loans fall in the range of $5,000 to $15,000"
   ]
  },
  {
   "cell_type": "code",
   "execution_count": null,
   "id": "04295130",
   "metadata": {},
   "outputs": [],
   "source": [
    "\n",
    "fig=plt.figure(constrained_layout=True,figsize=(20,10))\n",
    "gs=GridSpec(2,2,figure=fig)\n",
    "#Month Analysis\n",
    "ax6=fig.add_subplot(gs[0,0])\n",
    "sns.countplot(data=df_loan, x='issue_month', order=sorted(df_loan['issue_month'].unique()), palette='viridis',ax=ax6)\n",
    "plt.title('Distribution of Months')\n",
    "plt.xlabel('Months')\n",
    "plt.ylabel('Count')\n",
    "\n",
    "#Year Analysis\n",
    "ax5=fig.add_subplot(gs[0,1])\n",
    "sns.countplot(data=df_loan, x='issue_year', order=sorted(df_loan['issue_year'].unique()), palette='viridis',ax=ax5)\n",
    "plt.title('Distribution of Year')\n",
    "plt.xlabel('Year')\n",
    "plt.ylabel('Count')\n",
    "\n",
    "plt.show()"
   ]
  },
  {
   "cell_type": "markdown",
   "id": "ec43f00e",
   "metadata": {},
   "source": [
    "This visualization can help us understand the distribution of loans in the dataset. We can see that most loans issued in year 20011"
   ]
  },
  {
   "cell_type": "markdown",
   "id": "8e0ea64a",
   "metadata": {},
   "source": [
    "## Analysis 2"
   ]
  },
  {
   "cell_type": "code",
   "execution_count": null,
   "id": "38eb9124",
   "metadata": {},
   "outputs": [],
   "source": [
    "loan_status_counts = df_loan.groupby('loan_status').count()['id'] #\n",
    "plt.bar(loan_status_counts.index, loan_status_counts)\n",
    "plt.xlabel('Loan Status') \n",
    "plt.ylabel('Count')\n",
    "plt.title('Number of Loans by Status')\n",
    " # Display the chart \n",
    "plt.show()"
   ]
  },
  {
   "cell_type": "markdown",
   "id": "05f98dea",
   "metadata": {},
   "source": [
    "## Analysis 3"
   ]
  },
  {
   "cell_type": "code",
   "execution_count": null,
   "id": "7b5eb2e0",
   "metadata": {},
   "outputs": [],
   "source": [
    "plt.figure(figsize=(20,8))\n",
    "ax1 = plt.subplot(1,3,1)\n",
    "df_loan['loan_status'].value_counts().plot.pie(autopct=\"%1.0f%%\", ax = ax1)\n",
    "plt.title('Loan Status')\n",
    "plt.xlabel('Loan Status')\n",
    "plt.ylabel('Percentage')\n",
    "ax2 = plt.subplot(1,3,2)\n",
    "df_loan['grade'].value_counts().plot.pie(autopct=\"%1.0f%%\", ax = ax2)\n",
    "plt.title('Grades')\n",
    "plt.xlabel('Grade')\n",
    "plt.ylabel('Percentage')\n",
    "ax3 = plt.subplot(1,3,3)\n",
    "df_loan['purpose'].value_counts().plot.pie( autopct='%1.1f%%', ax = ax3) \n",
    "plt.title('Loan Purposes')\n",
    "plt.ylabel('Percentage')\n",
    "\n",
    "plt.show()\n",
    "plt.show()"
   ]
  },
  {
   "cell_type": "markdown",
   "id": "2888258c",
   "metadata": {},
   "source": [
    "This visualization can help us understand the proportion of loans that have been fully paid, charged off, or are currently in progress. We can see that the majority of loans have been fully paid."
   ]
  },
  {
   "cell_type": "markdown",
   "id": "691bbb2f",
   "metadata": {},
   "source": [
    "## Analysis 4"
   ]
  },
  {
   "cell_type": "code",
   "execution_count": null,
   "id": "5cefc793",
   "metadata": {},
   "outputs": [],
   "source": [
    "df_loan=df_loan.sort_values(by=['grade','sub_grade'],ascending=True)\n",
    "fig=px.box(df_loan,x='grade', y='int_rate',color=\"grade\")\n",
    "fig.update_layout(title_text=\"Interest Rate by Grade\")\n",
    "fig.update_xaxes(title_text='Loan Grade')\n",
    "fig.update_yaxes(title_text='Interest Rate (%)')\n",
    "fig1=px.box(df_loan,x='sub_grade', y='int_rate',color=\"sub_grade\")\n",
    "fig1.update_xaxes(title_text='Loan Sub Grade')\n",
    "fig1.update_yaxes(title_text='Interest Rate (%)')\n",
    "fig1.update_layout(title_text=\"Interest Rate by Sub Grade\")\n",
    "fig.show()\n",
    "fig1.show()\n"
   ]
  },
  {
   "cell_type": "markdown",
   "id": "2b590bd8",
   "metadata": {},
   "source": [
    "**High-Risk Grades (E, F, G):**\n",
    "\n",
    "Key Indicators:\n",
    "\n",
    "High median interest rates, reflecting the high likelihood of default.\n",
    "\n",
    "Wider IQR and more outliers, signaling a significant variability in risk levels.\n",
    "\n",
    "Risk Profile:\n",
    "\n",
    "These grades represent borrowers with poor credit histories or unstable incomes.\n",
    "\n",
    "Lenders face a high risk of non-payment, which is offset by charging much higher interest rates."
   ]
  },
  {
   "cell_type": "markdown",
   "id": "7724ea91",
   "metadata": {},
   "source": [
    "This visualization can help us understand the relationship between loan grade and interest rates. We can see that higher grade loans tend to have lower interest rates. "
   ]
  },
  {
   "cell_type": "markdown",
   "id": "13bfa21f",
   "metadata": {},
   "source": [
    "## Analysis 5"
   ]
  },
  {
   "cell_type": "code",
   "execution_count": null,
   "id": "92abeb43",
   "metadata": {},
   "outputs": [],
   "source": [
    "plt.scatter(df_loan['annual_inc'], df_loan['loan_amnt']) \n",
    "plt.xlabel('Annual Income') \n",
    "plt.ylabel('Loan Amount') \n",
    "plt.title('Scatter Plot of Annual Income vs. Loan Amount') \n",
    "plt.show()"
   ]
  },
  {
   "cell_type": "markdown",
   "id": "66139b32",
   "metadata": {},
   "source": [
    "**Weak Correlation:**\n",
    "\n",
    "The plot suggests no strong relationship between annual income and loan amount. Borrowers with similar incomes might request vastly different loan amounts.\n",
    "\n",
    "This lack of correlation implies that other factors (e.g., credit score, existing debt, or risk tolerance) are influencing loan amounts."
   ]
  },
  {
   "cell_type": "markdown",
   "id": "5fb70c21",
   "metadata": {},
   "source": [
    "This visualization can help us understand the relationship between annual income and loan amount. We can see that there is a positive correlation between the two variables, indicating that individuals with higher incomes tend to receive larger loans."
   ]
  },
  {
   "cell_type": "code",
   "execution_count": null,
   "id": "b14f18d4",
   "metadata": {},
   "outputs": [],
   "source": [
    "df_loan[['loan_amnt', 'int_rate', 'dti', 'annual_inc', 'revol_bal', 'total_acc','funded_amnt','installment','out_prncp','total_pymnt','total_pymnt_inv','total_rec_prncp','total_rec_int','total_rec_late_fee','recoveries']].corr()"
   ]
  },
  {
   "cell_type": "code",
   "execution_count": null,
   "id": "444878b4",
   "metadata": {},
   "outputs": [],
   "source": [
    "df_loan.head()"
   ]
  },
  {
   "cell_type": "markdown",
   "id": "9a6bae28",
   "metadata": {},
   "source": [
    "This visualization can help us understand the distribution of loan purposes in the dataset. We can see that the majority of loans are for credit card debt consolidation, followed by other purposes such as home improvement and small business loans."
   ]
  },
  {
   "cell_type": "code",
   "execution_count": 316,
   "id": "a6db068a",
   "metadata": {},
   "outputs": [],
   "source": [
    "# Define risk thresholds for filtering risky loans\n",
    "high_risk_criteria = (\n",
    "    (df_loan['grade'].isin(['E', 'F', 'G'])) |  # Low grades\n",
    "    (df_loan['int_rate'] > 18) |               # High interest rates (>18%)\n",
    "    (df_loan['dti'] > 30)                      # High Debt-to-Income ratio (>30%)\n",
    ")\n",
    "\n",
    "# Filter risky loans\n",
    "risky_loans = df_loan[high_risk_criteria]"
   ]
  },
  {
   "cell_type": "code",
   "execution_count": null,
   "id": "dbaf9275",
   "metadata": {},
   "outputs": [],
   "source": [
    "# Filter risky loans\n",
    "risky_loans = df_loan[high_risk_criteria]\n",
    "\n",
    "# Analyze the proportion of risky loans and their loan statuses\n",
    "risky_loans_status = risky_loans['loan_status'].value_counts(normalize=True) * 100\n",
    "\n",
    "# Summary statistics for risky loans\n",
    "risky_loans_summary = risky_loans.describe()\n",
    "\n",
    "risky_loans.shape, risky_loans_status, risky_loans_summary"
   ]
  },
  {
   "cell_type": "markdown",
   "id": "9ed8d62d",
   "metadata": {},
   "source": [
    "## Analysis 6"
   ]
  },
  {
   "cell_type": "code",
   "execution_count": null,
   "id": "34fb254c",
   "metadata": {},
   "outputs": [],
   "source": [
    "#Distribution of Loan Grades (Risky Loans)\n",
    "plt.figure(figsize=(20, 15))\n",
    "grdRisky= plt.subplot(3,2,1)\n",
    "sns.countplot(data=risky_loans, x='grade', order=['E', 'F', 'G'], palette='Reds',ax=grdRisky)\n",
    "plt.title('Distribution of Loan Grades (Risky Loans)')\n",
    "plt.xlabel('Grade')\n",
    "plt.ylabel('Count')\n",
    "\n",
    "grdRisky= plt.subplot(3,2,2)\n",
    "sns.countplot(data=risky_loans, x='sub_grade', order=sorted(risky_loans['sub_grade']), palette='Reds',ax=grdRisky)\n",
    "plt.title('Distribution of Loan Sub Grades (Risky Loans)')\n",
    "plt.xlabel('Sub Grade')\n",
    "plt.ylabel('Count')\n",
    "\n",
    "grdRisky= plt.subplot(3,2,3)\n",
    "sns.countplot(data=risky_loans, x='addr_state', order=risky_loans['addr_state'], palette='coolwarm',ax=grdRisky)\n",
    "plt.title('Distribution of Loan by States (Risky Loans)')\n",
    "plt.xlabel('States')\n",
    "plt.ylabel('Count')\n",
    "plt.xticks(rotation=90)\n",
    "\n",
    "#Interest Rate Comparison\n",
    "risky_loans['risk_category'] = 'Risky'\n",
    "non_risky_loans = df_loan[~high_risk_criteria]\n",
    "non_risky_loans['risk_category'] = 'Non-Risky'\n",
    "comparison_data = pd.concat([risky_loans, non_risky_loans])\n",
    "intrRisk= plt.subplot(3,2,4)\n",
    "sns.boxplot(data=comparison_data, x='risk_category', y='int_rate', palette='coolwarm',ax=intrRisk)\n",
    "plt.title('Interest Rate Comparison: Risky vs Non-Risky Loans')\n",
    "plt.xlabel('Risk Category')\n",
    "plt.ylabel('Interest Rate (%)')\n",
    "\n",
    "plt.show()\n",
    "\n"
   ]
  },
  {
   "cell_type": "markdown",
   "id": "17f6329b",
   "metadata": {},
   "source": [
    "## Analysis 7"
   ]
  },
  {
   "cell_type": "code",
   "execution_count": null,
   "id": "2cab8747",
   "metadata": {},
   "outputs": [],
   "source": [
    "# Default Trends in Risky Loans\n",
    "plt.figure(figsize=(20, 12))\n",
    "risky_loan_status_counts = risky_loans['loan_status'].value_counts()\n",
    "ax0=plt.subplot(2,2,1)\n",
    "risky_loan_status_counts.plot(kind='bar', color='darkorange', ax=ax0)\n",
    "plt.title('Loan Status Distribution (Risky Loans)')\n",
    "plt.xlabel('Loan Status')\n",
    "plt.ylabel('Number of Loans')\n",
    "plt.xticks(rotation=10)\n",
    "# Risky Loans by Purpose\n",
    "\n",
    "risky_loan_purpose_counts = risky_loans['purpose'].value_counts()\n",
    "ax1=plt.subplot(2,2,2)\n",
    "sns.barplot(y=risky_loan_purpose_counts.values, x=risky_loan_purpose_counts.index, palette='Reds',ax=ax1)\n",
    "plt.title('Risky Loans by Purpose')\n",
    "plt.ylabel('Number of Loans')\n",
    "plt.xlabel('Purpose')\n",
    "plt.xticks(rotation=90)\n",
    "\n",
    "risky_loan_purpose_counts = risky_loans['addr_state'].value_counts()\n",
    "ax1=plt.subplot(2,2,3)\n",
    "sns.barplot(y=risky_loan_purpose_counts.values, x=risky_loan_purpose_counts.index, palette='Reds',ax=ax1)\n",
    "plt.title('Risky Loans by State')\n",
    "plt.ylabel('Number of Loans')\n",
    "plt.xlabel('States')\n",
    "plt.xticks(rotation=90)\n",
    "plt.show()\n",
    "\n",
    "\n"
   ]
  },
  {
   "cell_type": "markdown",
   "id": "f63e45de",
   "metadata": {},
   "source": [
    "## Analysis 8"
   ]
  },
  {
   "cell_type": "code",
   "execution_count": 320,
   "id": "44c867ae",
   "metadata": {},
   "outputs": [],
   "source": [
    "categorical = df_loan.select_dtypes(include=['int64', 'float64']).columns"
   ]
  },
  {
   "cell_type": "code",
   "execution_count": null,
   "id": "0f800da0",
   "metadata": {},
   "outputs": [],
   "source": [
    "# Correlation Heat Map (Numerical Features)\n",
    "plt.figure(figsize=(10, 6))\n",
    "numerical_features =['loan_amnt', 'int_rate', 'dti', 'annual_inc', 'revol_bal', 'total_acc','funded_amnt','installment','out_prncp','total_pymnt','total_rec_prncp','total_rec_int','total_rec_late_fee','recoveries']\n",
    "#['loan_amnt', 'int_rate', 'dti', 'annual_inc', 'revol_bal', 'total_acc','funded_amnt','installment']\n",
    "correlation_matrix = risky_loans[numerical_features].corr()\n",
    "sns.heatmap(correlation_matrix, annot=True, cmap='coolwarm', fmt='.2f')\n",
    "plt.title('Correlation Heat Map of Risky Loans')\n",
    "plt.show()\n",
    "\n"
   ]
  },
  {
   "cell_type": "markdown",
   "id": "2b337f6f",
   "metadata": {},
   "source": [
    "**Debt-to-Income Ratio (DTI) and Risk:**\n",
    "\n",
    "Negative correlation between DTI and annual income (-0.11): \n",
    "\n",
    "As income increases, the DTI ratio tends to decrease. A high DTI is a strong indicator of higher risk because it implies the borrower is already carrying a significant debt load relative to their income, which increases the likelihood of loan default.\n",
    "\n",
    "The weak positive correlation with loan amount (0.15) and revolving balance (0.26) also shows that higher loan amounts and higher balances tend to go hand-in-hand with a higher DTI, which is a risk factor for default.\n",
    "\n",
    "\n",
    "**Correlation between loan_amnt and other variables:**\n",
    "\n",
    "The loan amount (loan_amnt) has a moderate positive correlation with the interest rate (int_rate) at 0.30 and a slightly higher positive correlation with annual income (annual_inc) at 0.41.\n",
    "It also has moderate positive correlations with revolving balance (revol_bal) and total accounts (total_acc).\n",
    "Interest rate correlations:\n",
    "\n",
    "The interest rate (int_rate) has a low positive correlation with loan amount (loan_amnt), but it has very low correlations with other variables like annual income (annual_inc) and revolving balance (revol_bal).\n"
   ]
  },
  {
   "cell_type": "markdown",
   "id": "3466b880",
   "metadata": {},
   "source": [
    "## Analysis 9"
   ]
  },
  {
   "cell_type": "code",
   "execution_count": null,
   "id": "8a99ee8a",
   "metadata": {},
   "outputs": [],
   "source": [
    "# 6. Frequency Heat Map (Grade vs Purpose)\n",
    "plt.figure(figsize=(20, 6))\n",
    "grade_purpose_pivot = risky_loans.pivot_table(index='purpose', columns='grade', aggfunc='size', fill_value=0)\n",
    "axGrdHM=plt.subplot(1,2,1)\n",
    "sns.heatmap(grade_purpose_pivot, annot=True, fmt='d', cmap='YlGnBu',ax=axGrdHM)\n",
    "plt.title('Frequency Heat Map: Grade vs Purpose (Risky Loans)')\n",
    "plt.xlabel('Grade')\n",
    "plt.ylabel('Purpose')\n",
    "axSubGrdHM=plt.subplot(1,2,2)\n",
    "grade_purpose_pivot = risky_loans.pivot_table(index='purpose', columns='sub_grade', aggfunc='size', fill_value=0)\n",
    "sns.heatmap(grade_purpose_pivot, annot=True, fmt='d', cmap='YlGnBu',ax=axSubGrdHM)\n",
    "plt.title('Frequency Heat Map: Sub Grade vs Purpose (Risky Loans)')\n",
    "plt.xlabel('Sub Grade')\n",
    "plt.ylabel('Purpose')\n",
    "plt.show()"
   ]
  },
  {
   "cell_type": "markdown",
   "id": "29918c8a",
   "metadata": {},
   "source": [
    "**Risk Implication:**\n",
    "\n",
    "Debt consolidation loans are often used by individuals facing financial stress or managing existing debt. Therefore, loan grades D and E, with their high frequencies for debt consolidation, may reflect higher financial distress and a higher risk of default.\n",
    "\n",
    "Credit card loans also seem to be somewhat common in these grades, further suggesting that borrowers in these grades may have challenges managing credit and could be at risk.\n",
    "\n",
    "**Risk Insights:**\n",
    "Debt consolidation is strongly associated with higher-risk borrowers (grades D, E, F, G and sub-grades D4, D5). Borrowers in these groups are likely facing financial struggles, making them higher-risk for loan defaults.\n",
    "\n",
    "Home improvement and small business loans, while somewhat common across sub-grades, show lower frequencies in riskier grades. These loan purposes may still indicate a level of financial planning or stability, but they are less prominent in the high-risk groups.\n",
    "\n",
    "Credit card loans show a mixed frequency across grades and sub-grades. This could suggest that some borrowers in lower grades are using loans for credit-related needs, which can indicate over-reliance on credit, adding to the default risk."
   ]
  },
  {
   "cell_type": "code",
   "execution_count": 323,
   "id": "4d91b2b3",
   "metadata": {},
   "outputs": [],
   "source": [
    "# # FICO Score vs Sub-Grades\n",
    "# plt.figure(figsize=(10, 6))\n",
    "# sns.boxplot(data=df_loan, x='sub_grade', y='last_fico_range_high', palette='coolwarm', order=sorted(df_loan['sub_grade'].unique()))\n",
    "# plt.title('FICO Score Distribution by Sub-Grade')\n",
    "# plt.xlabel('Sub-Grade')\n",
    "# plt.ylabel('FICO Range (Low)')\n",
    "# plt.xticks(rotation=45)\n",
    "# plt.show()"
   ]
  },
  {
   "cell_type": "markdown",
   "id": "4a5b6083",
   "metadata": {},
   "source": [
    "## Analysis 10"
   ]
  },
  {
   "cell_type": "code",
   "execution_count": null,
   "id": "7cf970d2",
   "metadata": {},
   "outputs": [],
   "source": [
    "# Revolving Utilization Heatmap\n",
    "plt.figure(figsize=(20, 6))\n",
    "axhmgrad=plt.subplot(1,2,1)\n",
    "sns.heatmap(df_loan.pivot_table(index='grade', columns='loan_status', values='revol_util', aggfunc='mean', fill_value=0),\n",
    "            annot=True, fmt='.1f', cmap='Reds', ax=axhmgrad)\n",
    "plt.title('Average Revolving Utilization by Grade and Loan Status')\n",
    "plt.xlabel('Loan Status')\n",
    "plt.ylabel('Grade')\n",
    "\n",
    "axhmsubgrad=plt.subplot(1,2,2)\n",
    "sns.heatmap(df_loan.pivot_table(index='sub_grade', columns='loan_status', values='revol_util', aggfunc='mean', fill_value=0),\n",
    "            annot=True, fmt='.1f', cmap='Reds', ax=axhmsubgrad)\n",
    "plt.title('Average Revolving Utilization by Sub-Grade and Loan Status')\n",
    "plt.xlabel('Loan Status')\n",
    "plt.ylabel('Sub-Grade')\n",
    "plt.show()\n",
    "\n"
   ]
  },
  {
   "cell_type": "markdown",
   "id": "6abb78c1",
   "metadata": {},
   "source": [
    "## TREND"
   ]
  },
  {
   "cell_type": "markdown",
   "id": "e3a68162",
   "metadata": {},
   "source": [
    "**As the loan grade decreases (from A to G), the revolving utilization increases for each loan status category.**\n",
    "\n",
    "There is variation within each grade and sub-grade, with some sub-grades showing significantly higher utilization rates, especially in the \"Charged Off\" and \"Fully Paid\" categories.\n"
   ]
  },
  {
   "cell_type": "code",
   "execution_count": 325,
   "id": "bafa6735",
   "metadata": {},
   "outputs": [],
   "source": [
    "categorical = df_loan.select_dtypes(include=['int64', 'float64']).columns"
   ]
  },
  {
   "cell_type": "code",
   "execution_count": 326,
   "id": "26191976",
   "metadata": {},
   "outputs": [],
   "source": [
    "# for column in categorical:\n",
    "#     title = \"Plot of \" + column\n",
    "#     plt.scatter(df_loan.index, df_loan[column])\n",
    "#     plt.title(title)\n",
    "#     plt.show()\n"
   ]
  },
  {
   "cell_type": "markdown",
   "id": "94ff8dfa",
   "metadata": {},
   "source": [
    "## Analysis 11"
   ]
  },
  {
   "cell_type": "code",
   "execution_count": null,
   "id": "f2fe6406",
   "metadata": {},
   "outputs": [],
   "source": [
    "# Box Plot: Loan Status vs Revolving Utilization\n",
    "fig2=px.box(df_loan,x='loan_status', y='revol_util',color=\"loan_status\")\n",
    "fig2.update_xaxes(title_text='Loan Status')\n",
    "fig2.update_yaxes(title_text='Revolving Utilization (%)')\n",
    "fig2.update_layout(title_text=\"Revolving Utilization by Loan Status\")\n",
    "fig2.show()\n",
    "\n"
   ]
  },
  {
   "cell_type": "markdown",
   "id": "c0273ca0",
   "metadata": {},
   "source": [
    "**Fully Paid Loans:**\n",
    "\n",
    "Median revolving utilization is lower compared to the other statuses.\n",
    "\n",
    "Indicates that borrowers who fully repay loans tend to have more conservative credit usage.\n",
    "\n",
    "The interquartile range (IQR) shows a narrower spread, suggesting more consistent credit behavior.\n",
    "Charged Off Loans:\n",
    "\n",
    "**Charged Off Loans:**\n",
    "\n",
    "Median utilization is higher than Fully Paid loans, suggesting riskier credit behavior.\n",
    "\n",
    "The IQR is wider, indicating a higher variability in credit usage among borrowers whose loans are charged off.\n",
    "\n",
    "Borrowers in this group often have high utilization, hinting at financial stress or over-leverage.\n",
    "Current Loans:\n",
    "\n",
    "**Current Loans:**\n",
    "\n",
    "Median utilization is slightly below Charged Off loans but above Fully Paid loans.\n",
    "\n",
    "Reflects borrowers who are actively paying loans but may have higher revolving credit balances.\n",
    "\n",
    "IQR suggests a moderate spread, showing variability in usage but less than Charged Off loans.\n",
    "\n"
   ]
  },
  {
   "cell_type": "markdown",
   "id": "e972e80e",
   "metadata": {},
   "source": [
    "## Analysis 12"
   ]
  },
  {
   "cell_type": "code",
   "execution_count": null,
   "id": "5936b0a3",
   "metadata": {},
   "outputs": [],
   "source": [
    "# Histogram: Distribution of Revolving Utilization\n",
    "plt.figure(figsize=(10, 6))\n",
    "sns.histplot(data=df_loan, x='revol_util', bins=30, kde=True, color='purple')\n",
    "plt.title('Distribution of Revolving Utilization')\n",
    "plt.xlabel('Revolving Utilization (%)')\n",
    "plt.ylabel('Frequency')\n",
    "plt.show()"
   ]
  },
  {
   "cell_type": "markdown",
   "id": "e1b397f6",
   "metadata": {},
   "source": [
    "## Analysis 13"
   ]
  },
  {
   "cell_type": "code",
   "execution_count": null,
   "id": "be2f9612",
   "metadata": {},
   "outputs": [],
   "source": [
    "# Sub-Grade vs Revolving Utilization: Bar Plot\n",
    "plt.figure(figsize=(12, 8))\n",
    "average_revol_util_by_sub_grade = df_loan.groupby('sub_grade')['revol_util'].mean().sort_index()\n",
    "sns.barplot(x=average_revol_util_by_sub_grade.index, y=average_revol_util_by_sub_grade.values, palette='viridis')\n",
    "plt.title('Average Revolving Utilization by Sub-Grade')\n",
    "plt.xlabel('Sub-Grade')\n",
    "plt.ylabel('Average Revolving Utilization (%)')\n",
    "plt.xticks(rotation=45)\n",
    "plt.show()\n",
    "\n"
   ]
  },
  {
   "cell_type": "markdown",
   "id": "e7f501e0",
   "metadata": {},
   "source": [
    "Insights:\n",
    "**Risk Assessment:**\n",
    "\n",
    "Borrowers with sub-grades in the F and G categories represent high-risk groups due to their high revolving utilization. These borrowers are more likely to default or struggle with repayments.\n",
    "\n",
    "**Borrower Behavior by Sub-Grade:**\n",
    "\n",
    "Borrowers with lower sub-grades (e.g., A and B) tend to use credit sparingly, making them safer for lenders.\n",
    "\n",
    "Higher sub-grade borrowers (E, F, G) exhibit risky behavior with higher utilization, potentially signaling over-leverage or poor financial management.\n",
    "\n",
    "\n",
    "**Custom Lending Criteria:**\n",
    "\n",
    "Offer better terms (e.g., lower interest rates) to A and B borrowers to encourage safe credit usage.\n",
    "\n",
    "Consider stricter repayment schedules or additional guarantees for F and G borrowers."
   ]
  },
  {
   "cell_type": "markdown",
   "id": "fe2b143f",
   "metadata": {},
   "source": [
    "## Analysis 14"
   ]
  },
  {
   "cell_type": "code",
   "execution_count": null,
   "id": "e9f356cb",
   "metadata": {},
   "outputs": [],
   "source": [
    "# Heatmap: Sub-Grade vs Loan Status (Revolving Utilization)\n",
    "plt.figure(figsize=(12, 8))\n",
    "sub_grade_status_pivot = df_loan.pivot_table(\n",
    "    index='sub_grade', \n",
    "    columns='loan_status', \n",
    "    values='revol_util', \n",
    "    aggfunc='mean', \n",
    "    fill_value=0\n",
    ")\n",
    "sns.heatmap(sub_grade_status_pivot, annot=True, fmt='.1f', cmap='YlOrRd')\n",
    "plt.title('Average Revolving Utilization by Sub-Grade and Loan Status')\n",
    "plt.xlabel('Loan Status')\n",
    "plt.ylabel('Sub-Grade')\n",
    "plt.show()"
   ]
  },
  {
   "cell_type": "markdown",
   "id": "74c87b35",
   "metadata": {},
   "source": [
    "**Risk Differentiation:**\n",
    "\n",
    "Sub-grades F and G consistently display high utilization across all loan statuses, indicating they are the riskiest borrowers regardless of their loan outcome.\n",
    "\n",
    "**Loan Status Analysis:**\n",
    "\n",
    "Charged Off loans have significantly higher utilization compared to fully paid loans across all sub-grades, confirming that revolving utilization is a key risk indicator for defaults.\n",
    "\n",
    "Current loans are intermediate, showing higher utilization than fully paid loans but lower than charged off loans, reflecting their ongoing risk exposure.\n",
    "Credit Behavior by Sub-Grade:\n",
    "\n",
    "Lower sub-grades (A and B categories) demonstrate strong financial discipline, with consistently low utilization, even for charged-off loans.\n",
    "Borrowers in sub-grades G2, G3, and G4 are outliers with dangerously high utilization, particularly for charged-off and current loans."
   ]
  },
  {
   "cell_type": "markdown",
   "id": "ff79e1dd",
   "metadata": {},
   "source": [
    "## Analysis 15"
   ]
  },
  {
   "cell_type": "code",
   "execution_count": null,
   "id": "f59f452d",
   "metadata": {},
   "outputs": [],
   "source": [
    "# Bar Plot: Loan Status by Employment Length\n",
    "plt.figure(figsize=(12, 8))\n",
    "emp_length_status = df_loan.groupby(['emp_length', 'loan_status']).size().unstack()\n",
    "emp_length_status.plot(kind='bar', stacked=True, color=['salmon','skyblue', 'green'], figsize=(12, 8))\n",
    "plt.title('Loan Status by Employment Length')\n",
    "plt.xlabel('Employment Length')\n",
    "plt.ylabel('Number of Loans')\n",
    "plt.legend(title='Loan Status')\n",
    "plt.xticks(rotation=45)\n",
    "plt.show()\n",
    "\n",
    "# Heatmap: Employment Length vs Sub-Grade\n",
    "plt.figure(figsize=(12, 8))\n",
    "emp_length_sub_grade_pivot = df_loan.pivot_table(\n",
    "    index='emp_length', \n",
    "    columns='sub_grade', \n",
    "    aggfunc='size', \n",
    "    fill_value=0\n",
    ")\n",
    "sns.heatmap(emp_length_sub_grade_pivot, annot=True, fmt='d', cmap='YlGnBu')\n",
    "plt.title('Heatmap: Employment Length vs Sub-Grade')\n",
    "plt.xlabel('Sub-Grade')\n",
    "plt.ylabel('Employment Length')\n",
    "plt.show()\n",
    "\n",
    "\n",
    "# Bar Plot: Loan Status by Verification Status\n",
    "plt.figure(figsize=(10, 6))\n",
    "sns.countplot(data=df_loan, x='verification_status', hue='loan_status', palette='Set2')\n",
    "plt.title('Loan Status by Verification Status')\n",
    "plt.xlabel('Verification Status')\n",
    "plt.ylabel('Count')\n",
    "plt.legend(title='Loan Status')\n",
    "plt.show()\n",
    "\n",
    "# Stacked Bar Chart: Verification Status by Loan Grade\n",
    "verification_grade = df_loan.groupby(['grade', 'verification_status']).size().unstack()\n",
    "verification_grade.plot(kind='bar', stacked=True, color=['red', 'orange', 'lightgreen'], figsize=(12, 8))\n",
    "plt.title('Verification Status by Loan Grade')\n",
    "plt.xlabel('Loan Grade')\n",
    "plt.ylabel('Number of Loans')\n",
    "plt.legend(title='Verification Status')\n",
    "plt.xticks(rotation=0)\n",
    "plt.show()"
   ]
  },
  {
   "cell_type": "markdown",
   "id": "8a9d2c0c",
   "metadata": {},
   "source": [
    "## Analysis 16"
   ]
  },
  {
   "cell_type": "code",
   "execution_count": null,
   "id": "a46e7f20",
   "metadata": {},
   "outputs": [],
   "source": [
    "# Bar Plot: Loan Status by Home Ownership\n",
    "plt.figure(figsize=(10, 6))\n",
    "sns.countplot(data=df_loan, x='home_ownership', hue='loan_status', palette='coolwarm')\n",
    "plt.title('Loan Status by Home Ownership')\n",
    "plt.xlabel('Home Ownership')\n",
    "plt.ylabel('Count')\n",
    "plt.legend(title='Loan Status')\n",
    "plt.xticks(rotation=45)\n",
    "plt.show()\n",
    "\n",
    "# Stacked Bar Chart: Home Ownership by Loan Grade\n",
    "home_ownership_grade = df_loan.groupby(['grade', 'home_ownership']).size().unstack()\n",
    "home_ownership_grade.plot(kind='bar', stacked=True, figsize=(12, 8), color=['lightblue', 'lightgreen', 'salmon', 'gray'])\n",
    "plt.title('Home Ownership by Loan Grade')\n",
    "plt.xlabel('Loan Grade')\n",
    "plt.ylabel('Number of Loans')\n",
    "plt.legend(title='Home Ownership')\n",
    "plt.xticks(rotation=0)\n",
    "plt.show()\n",
    "\n",
    "# Pie Chart: Overall Distribution of Home Ownership\n",
    "plt.figure(figsize=(8, 8))\n",
    "home_ownership_counts = df_loan['home_ownership'].value_counts()\n",
    "home_ownership_counts.plot(kind='pie', autopct='%1.1f%%', startangle=90, colors=['gold', 'skyblue', 'lightcoral', 'lightgray'])\n",
    "plt.title('Overall Distribution of Home Ownership')\n",
    "plt.xticks(rotation=90)\n",
    "plt.ylabel('')\n",
    "plt.show()\n",
    "\n",
    "# Box Plot: Interest Rates by Home Ownership\n",
    "plt.figure(figsize=(10, 6))\n",
    "sns.boxplot(data=df_loan, x='home_ownership', y='int_rate', palette='pastel')\n",
    "plt.title('Interest Rates by Home Ownership')\n",
    "plt.xlabel('Home Ownership')\n",
    "plt.ylabel('Interest Rate (%)')\n",
    "plt.xticks(rotation=20)\n",
    "plt.show()"
   ]
  },
  {
   "cell_type": "markdown",
   "id": "086ce452",
   "metadata": {},
   "source": [
    "## Analysis 17"
   ]
  },
  {
   "cell_type": "code",
   "execution_count": null,
   "id": "f2e6b8a0",
   "metadata": {},
   "outputs": [],
   "source": [
    " #Bar Plot: Loan Status by Charge-Offs Within 12 Months\n",
    "plt.figure(figsize=(10, 6))\n",
    "sns.countplot(data=df_loan, x='chargeoff_within_12_mths', hue='loan_status', palette='Set1')\n",
    "plt.title('Loan Status by Charge-Offs Within 12 Months')\n",
    "plt.xlabel('Charge-Offs Within 12 Months')\n",
    "plt.ylabel('Count')\n",
    "plt.legend(title='Loan Status')\n",
    "plt.xticks(rotation=45)\n",
    "plt.show()\n",
    "\n",
    "# Box Plot: Delinquency Amount by Loan Grade\n",
    "plt.figure(figsize=(10, 6))\n",
    "sns.boxplot(data=df_loan, x='grade', y='delinq_amnt', palette='pastel')\n",
    "plt.title('Delinquency Amount by Loan Grade')\n",
    "plt.xlabel('Loan Grade')\n",
    "plt.ylabel('Delinquency Amount ($)')\n",
    "plt.show()\n",
    "\n",
    "# Bar Plot: Loan Status by Public Record Bankruptcies\n",
    "plt.figure(figsize=(10, 6))\n",
    "sns.countplot(data=df_loan, x='pub_rec_bankruptcies', hue='loan_status', palette='coolwarm')\n",
    "plt.title('Loan Status by Public Record Bankruptcies')\n",
    "plt.xlabel('Public Record Bankruptcies')\n",
    "plt.ylabel('Count')\n",
    "plt.legend(title='Loan Status')\n",
    "plt.xticks(rotation=45)\n",
    "plt.show()\n",
    "\n",
    "# Stacked Bar Chart: Tax Liens by Loan Grade\n",
    "tax_liens_grade = df_loan.groupby(['grade', 'tax_liens']).size().unstack()\n",
    "tax_liens_grade.plot(kind='bar', stacked=True, figsize=(12, 8), color=['lightcoral', 'lightblue', 'gold'])\n",
    "plt.title('Tax Liens by Loan Grade')\n",
    "plt.xlabel('Loan Grade')\n",
    "plt.ylabel('Number of Loans')\n",
    "plt.legend(title='Tax Liens')\n",
    "plt.xticks(rotation=0)\n",
    "plt.show()"
   ]
  },
  {
   "cell_type": "markdown",
   "id": "0b115201",
   "metadata": {},
   "source": [
    "## Analysis 18"
   ]
  },
  {
   "cell_type": "code",
   "execution_count": null,
   "id": "0599fd3d",
   "metadata": {},
   "outputs": [],
   "source": [
    "plt.scatter(df_loan['loan_amnt'], df_loan['total_rec_late_fee'], color='red')\n",
    "plt.title('Late Fees vs Loan Amount')\n",
    "plt.xlabel('Loan Amount')\n",
    "plt.ylabel('Late Fees')\n",
    "plt.show()\n"
   ]
  },
  {
   "cell_type": "markdown",
   "id": "c92798ff",
   "metadata": {},
   "source": [
    "## Analysis 20"
   ]
  },
  {
   "cell_type": "code",
   "execution_count": null,
   "id": "3ccee32a",
   "metadata": {},
   "outputs": [],
   "source": [
    "\n",
    "recoveries=df_loan[(df_loan.recoveries>1000) & (df_loan.recoveries <= 20000)]\n",
    "recoveries.recoveries.value_counts()\n",
    "sns.boxplot(x='loan_status', y='recoveries', data=recoveries)\n",
    "\n",
    "plt.title('Recoveries by Loan Status')\n",
    "plt.show()"
   ]
  },
  {
   "cell_type": "code",
   "execution_count": 336,
   "id": "aa7d8714",
   "metadata": {},
   "outputs": [],
   "source": [
    "# df_loan[['total_rec_prncp', 'total_rec_int']].plot(kind='bar', stacked=True, figsize=(10, 6))\n",
    "# plt.title('Distribution of Loan Repayments (Principal vs Interest)')\n",
    "# plt.ylabel('Amount')\n",
    "# plt.show()"
   ]
  },
  {
   "cell_type": "code",
   "execution_count": 337,
   "id": "7b2e0b43",
   "metadata": {},
   "outputs": [],
   "source": [
    "# for col in df_loan.columns:\n",
    "#     if df_loan[col].dtype==\"object\":\n",
    "#         print(df_loan[col].value_counts())\n",
    "#         print(\"----\"*20)"
   ]
  },
  {
   "cell_type": "code",
   "execution_count": null,
   "id": "4bed245d",
   "metadata": {},
   "outputs": [],
   "source": [
    "df_loan.shape"
   ]
  },
  {
   "cell_type": "code",
   "execution_count": null,
   "id": "496ef744",
   "metadata": {},
   "outputs": [],
   "source": [
    "df_loan.head()"
   ]
  },
  {
   "cell_type": "code",
   "execution_count": 340,
   "id": "d000d981",
   "metadata": {},
   "outputs": [],
   "source": [
    "#df_loan.addr_state.value_counts()"
   ]
  }
 ],
 "metadata": {
  "hide_input": false,
  "kernelspec": {
   "display_name": "Python 3",
   "language": "python",
   "name": "python3"
  },
  "language_info": {
   "codemirror_mode": {
    "name": "ipython",
    "version": 3
   },
   "file_extension": ".py",
   "mimetype": "text/x-python",
   "name": "python",
   "nbconvert_exporter": "python",
   "pygments_lexer": "ipython3",
   "version": "3.10.13"
  }
 },
 "nbformat": 4,
 "nbformat_minor": 5
}
